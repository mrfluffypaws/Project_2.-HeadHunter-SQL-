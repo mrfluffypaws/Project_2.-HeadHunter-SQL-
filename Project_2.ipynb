{
  "cells": [
    {
      "cell_type": "markdown",
      "id": "42289889-bd57-434e-9637-d3e354756316",
      "metadata": {
        "id": "42289889-bd57-434e-9637-d3e354756316"
      },
      "source": [
        "<center> <img src = https://raw.githubusercontent.com/AndreyRysistov/DatasetsForPandas/main/hh%20label.jpg alt=\"drawing\" style=\"width:400px;\">"
      ]
    },
    {
      "cell_type": "markdown",
      "id": "829cb75b-f14e-4ba8-9195-7ba929a7d656",
      "metadata": {
        "id": "829cb75b-f14e-4ba8-9195-7ba929a7d656",
        "tags": []
      },
      "source": [
        "# <center> Проект: Анализ вакансий из HeadHunter\n",
        "   "
      ]
    },
    {
      "cell_type": "markdown",
      "id": "07cd6e1f",
      "metadata": {},
      "source": [
        "Наш проект включает в себя несколько этапов:\n",
        "* знакомство с данными;\n",
        "* предварительный анализ данных;\n",
        "* детальный анализ вакансий;\n",
        "* анализ работодателей;\n",
        "* предметный анализ."
      ]
    },
    {
      "cell_type": "markdown",
      "id": "3a39900b",
      "metadata": {},
      "source": [
        "Требования к оформлению ноутбука-решения:\n",
        "\n",
        "* Решение оформляется только в Jupyter Notebook.\n",
        "* Решение оформляется в соответствии с ноутбуком-шаблоном.\n",
        "* Каждое задание выполняется в отдельной ячейке, выделенной под задание (в шаблоне они помечены как ваш код здесь). Не следует создавать много ячеек для решения задачи — это провоцирует неудобства при проверке.\n",
        "* Текст SQL-запросов и код на Python должны быть читаемыми. Не забывайте про отступы в SQL-коде.\n",
        "* Выводы по каждому этапу оформляются в формате Markdown в отдельной ячейке (в шаблоне они помечены как ваши выводы здесь).\n",
        "* Выводы можно дополнительно проиллюстрировать с помощью графиков. Они оформляются в соответствии с теми правилами, которые мы приводили в модуле по визуализации данных.\n",
        "* Не забудьте удалить ячейку с данными соединения перед фиксацией работы в GitHub."
      ]
    },
    {
      "cell_type": "code",
      "execution_count": 1,
      "id": "dccfde33-2452-43fb-a8a5-5c6ebc02a71d",
      "metadata": {
        "id": "dccfde33-2452-43fb-a8a5-5c6ebc02a71d"
      },
      "outputs": [],
      "source": [
        "import pandas as pd\n",
        "import psycopg2\n",
        "import urllib.parse as req"
      ]
    },
    {
      "cell_type": "code",
      "execution_count": 2,
      "id": "oVKH4ehvf8Ay",
      "metadata": {
        "id": "oVKH4ehvf8Ay"
      },
      "outputs": [],
      "source": [
        "# вставьте сюда параметры подключения из юнита 1. Работа с базой данных из Python \n",
        "DBNAME = '-'\n",
        "USER = '-'\n",
        "PASSWORD = '-'\n",
        "HOST = '-'\n",
        "PORT = '-'"
      ]
    },
    {
      "cell_type": "code",
      "execution_count": 3,
      "id": "G4X_q8KBf7SF",
      "metadata": {
        "id": "G4X_q8KBf7SF"
      },
      "outputs": [],
      "source": [
        "connection = psycopg2.connect(\n",
        "    dbname=DBNAME,\n",
        "    user=USER,\n",
        "    host=HOST,\n",
        "    password=PASSWORD,\n",
        "    port=PORT\n",
        ")"
      ]
    },
    {
      "cell_type": "markdown",
      "id": "0dc6476b-7a00-44f1-ac93-6e3baed33a29",
      "metadata": {
        "id": "0dc6476b-7a00-44f1-ac93-6e3baed33a29"
      },
      "source": [
        "# Юнит 3. Предварительный анализ данных"
      ]
    },
    {
      "cell_type": "markdown",
      "id": "889782b6-8d1c-410e-8920-e57f27917c64",
      "metadata": {
        "id": "889782b6-8d1c-410e-8920-e57f27917c64"
      },
      "source": [
        "1. Напишите запрос, который посчитает количество вакансий в нашей базе (вакансии находятся в таблице vacancies). "
      ]
    },
    {
      "cell_type": "code",
      "execution_count": 71,
      "id": "bc39e68e-ed02-4ee2-9235-7258a2f867a8",
      "metadata": {
        "id": "bc39e68e-ed02-4ee2-9235-7258a2f867a8"
      },
      "outputs": [],
      "source": [
        "# текст запроса\n",
        "vac_count = f'''select\n",
        "-- выводим общее количество строк \n",
        "    count(*) AS count_vacancies\n",
        "-- обращаемся к таблице вакансий\n",
        "from vacancies'''"
      ]
    },
    {
      "cell_type": "code",
      "execution_count": 72,
      "id": "7mAwtsk4hEHY",
      "metadata": {
        "id": "7mAwtsk4hEHY"
      },
      "outputs": [
        {
          "name": "stderr",
          "output_type": "stream",
          "text": [
            "C:\\Users\\IAMMI\\AppData\\Local\\Temp\\ipykernel_6888\\1907099108.py:2: UserWarning: pandas only supports SQLAlchemy connectable (engine/connection) or database string URI or sqlite3 DBAPI2 connection. Other DBAPI2 objects are not tested. Please consider using SQLAlchemy.\n",
            "  vac_count_df = pd.read_sql_query(vac_count, connection)\n"
          ]
        },
        {
          "data": {
            "text/html": [
              "<div>\n",
              "<style scoped>\n",
              "    .dataframe tbody tr th:only-of-type {\n",
              "        vertical-align: middle;\n",
              "    }\n",
              "\n",
              "    .dataframe tbody tr th {\n",
              "        vertical-align: top;\n",
              "    }\n",
              "\n",
              "    .dataframe thead th {\n",
              "        text-align: right;\n",
              "    }\n",
              "</style>\n",
              "<table border=\"1\" class=\"dataframe\">\n",
              "  <thead>\n",
              "    <tr style=\"text-align: right;\">\n",
              "      <th></th>\n",
              "      <th>count_vacancies</th>\n",
              "    </tr>\n",
              "  </thead>\n",
              "  <tbody>\n",
              "    <tr>\n",
              "      <th>0</th>\n",
              "      <td>49197</td>\n",
              "    </tr>\n",
              "  </tbody>\n",
              "</table>\n",
              "</div>"
            ],
            "text/plain": [
              "   count_vacancies\n",
              "0            49197"
            ]
          },
          "execution_count": 72,
          "metadata": {},
          "output_type": "execute_result"
        }
      ],
      "source": [
        "# результат запроса\n",
        "vac_count_df = pd.read_sql_query(vac_count, connection)\n",
        "vac_count_df"
      ]
    },
    {
      "cell_type": "markdown",
      "id": "b583485d-1f9e-494e-ada4-80ffff7c53d6",
      "metadata": {
        "id": "b583485d-1f9e-494e-ada4-80ffff7c53d6"
      },
      "source": [
        "2. Напишите запрос, который посчитает количество работодателей (таблица employers). "
      ]
    },
    {
      "cell_type": "code",
      "execution_count": 73,
      "id": "5408c52c-3407-4a63-b25b-1aafa2322d28",
      "metadata": {
        "id": "5408c52c-3407-4a63-b25b-1aafa2322d28"
      },
      "outputs": [],
      "source": [
        "# текст запроса\n",
        "emp_count = f'''select\n",
        "-- выводим общее количество строк \n",
        "    count(*) AS count_employers\n",
        "-- обращаемся к таблице работодателей\n",
        "from employers'''"
      ]
    },
    {
      "cell_type": "code",
      "execution_count": 74,
      "id": "jVL4eshKhdqc",
      "metadata": {
        "id": "jVL4eshKhdqc"
      },
      "outputs": [
        {
          "name": "stderr",
          "output_type": "stream",
          "text": [
            "C:\\Users\\IAMMI\\AppData\\Local\\Temp\\ipykernel_6888\\1154262183.py:2: UserWarning: pandas only supports SQLAlchemy connectable (engine/connection) or database string URI or sqlite3 DBAPI2 connection. Other DBAPI2 objects are not tested. Please consider using SQLAlchemy.\n",
            "  emp_count_df = pd.read_sql_query(emp_count, connection)\n"
          ]
        },
        {
          "data": {
            "text/html": [
              "<div>\n",
              "<style scoped>\n",
              "    .dataframe tbody tr th:only-of-type {\n",
              "        vertical-align: middle;\n",
              "    }\n",
              "\n",
              "    .dataframe tbody tr th {\n",
              "        vertical-align: top;\n",
              "    }\n",
              "\n",
              "    .dataframe thead th {\n",
              "        text-align: right;\n",
              "    }\n",
              "</style>\n",
              "<table border=\"1\" class=\"dataframe\">\n",
              "  <thead>\n",
              "    <tr style=\"text-align: right;\">\n",
              "      <th></th>\n",
              "      <th>count_employers</th>\n",
              "    </tr>\n",
              "  </thead>\n",
              "  <tbody>\n",
              "    <tr>\n",
              "      <th>0</th>\n",
              "      <td>23501</td>\n",
              "    </tr>\n",
              "  </tbody>\n",
              "</table>\n",
              "</div>"
            ],
            "text/plain": [
              "   count_employers\n",
              "0            23501"
            ]
          },
          "execution_count": 74,
          "metadata": {},
          "output_type": "execute_result"
        }
      ],
      "source": [
        "# результат запроса\n",
        "emp_count_df = pd.read_sql_query(emp_count, connection)\n",
        "emp_count_df\n"
      ]
    },
    {
      "cell_type": "markdown",
      "id": "a2bfff1f-c975-4bf6-84be-2185d79dcb76",
      "metadata": {
        "id": "a2bfff1f-c975-4bf6-84be-2185d79dcb76"
      },
      "source": [
        "3. Посчитате с помощью запроса количество регионов (таблица areas)."
      ]
    },
    {
      "cell_type": "code",
      "execution_count": 79,
      "id": "1m8QJwBYhey6",
      "metadata": {
        "id": "1m8QJwBYhey6"
      },
      "outputs": [],
      "source": [
        "# текст запроса\n",
        "ar_count = f'''select\n",
        "-- выводим общее количество строк\n",
        "    count(*) AS count_areas\n",
        "-- обращаемся к таблице регионов \n",
        "from areas'''"
      ]
    },
    {
      "cell_type": "code",
      "execution_count": 80,
      "id": "EZsn9tlfhe7f",
      "metadata": {
        "id": "EZsn9tlfhe7f"
      },
      "outputs": [
        {
          "name": "stderr",
          "output_type": "stream",
          "text": [
            "C:\\Users\\IAMMI\\AppData\\Local\\Temp\\ipykernel_6888\\3006970182.py:2: UserWarning: pandas only supports SQLAlchemy connectable (engine/connection) or database string URI or sqlite3 DBAPI2 connection. Other DBAPI2 objects are not tested. Please consider using SQLAlchemy.\n",
            "  ar_count_df = pd.read_sql_query(ar_count, connection)\n"
          ]
        },
        {
          "data": {
            "text/html": [
              "<div>\n",
              "<style scoped>\n",
              "    .dataframe tbody tr th:only-of-type {\n",
              "        vertical-align: middle;\n",
              "    }\n",
              "\n",
              "    .dataframe tbody tr th {\n",
              "        vertical-align: top;\n",
              "    }\n",
              "\n",
              "    .dataframe thead th {\n",
              "        text-align: right;\n",
              "    }\n",
              "</style>\n",
              "<table border=\"1\" class=\"dataframe\">\n",
              "  <thead>\n",
              "    <tr style=\"text-align: right;\">\n",
              "      <th></th>\n",
              "      <th>count_areas</th>\n",
              "    </tr>\n",
              "  </thead>\n",
              "  <tbody>\n",
              "    <tr>\n",
              "      <th>0</th>\n",
              "      <td>1362</td>\n",
              "    </tr>\n",
              "  </tbody>\n",
              "</table>\n",
              "</div>"
            ],
            "text/plain": [
              "   count_areas\n",
              "0         1362"
            ]
          },
          "execution_count": 80,
          "metadata": {},
          "output_type": "execute_result"
        }
      ],
      "source": [
        "# результат запроса\n",
        "ar_count_df = pd.read_sql_query(ar_count, connection)\n",
        "ar_count_df"
      ]
    },
    {
      "cell_type": "markdown",
      "id": "41bb59f3-53cc-4a67-a5bc-bedf573955e4",
      "metadata": {
        "id": "41bb59f3-53cc-4a67-a5bc-bedf573955e4"
      },
      "source": [
        "4. Посчитате с помощью запроса количество сфер деятельности в базе (таблица industries)."
      ]
    },
    {
      "cell_type": "code",
      "execution_count": 77,
      "id": "d286cf4c-707b-4cd2-9190-7ab3587d04a1",
      "metadata": {
        "id": "d286cf4c-707b-4cd2-9190-7ab3587d04a1"
      },
      "outputs": [],
      "source": [
        "# текст запроса\n",
        "ind_count = f'''select\n",
        "-- выводим общее количество строк\n",
        "    count(*) AS count_industries\n",
        "-- обращаемся к таблице со сферами деятельности\n",
        "from industries'''"
      ]
    },
    {
      "cell_type": "code",
      "execution_count": 78,
      "id": "JYAaoZ4qhfzW",
      "metadata": {
        "id": "JYAaoZ4qhfzW"
      },
      "outputs": [
        {
          "name": "stderr",
          "output_type": "stream",
          "text": [
            "C:\\Users\\IAMMI\\AppData\\Local\\Temp\\ipykernel_6888\\750610291.py:2: UserWarning: pandas only supports SQLAlchemy connectable (engine/connection) or database string URI or sqlite3 DBAPI2 connection. Other DBAPI2 objects are not tested. Please consider using SQLAlchemy.\n",
            "  ind_count_df = pd.read_sql_query(ind_count, connection)\n"
          ]
        },
        {
          "data": {
            "text/html": [
              "<div>\n",
              "<style scoped>\n",
              "    .dataframe tbody tr th:only-of-type {\n",
              "        vertical-align: middle;\n",
              "    }\n",
              "\n",
              "    .dataframe tbody tr th {\n",
              "        vertical-align: top;\n",
              "    }\n",
              "\n",
              "    .dataframe thead th {\n",
              "        text-align: right;\n",
              "    }\n",
              "</style>\n",
              "<table border=\"1\" class=\"dataframe\">\n",
              "  <thead>\n",
              "    <tr style=\"text-align: right;\">\n",
              "      <th></th>\n",
              "      <th>count_industries</th>\n",
              "    </tr>\n",
              "  </thead>\n",
              "  <tbody>\n",
              "    <tr>\n",
              "      <th>0</th>\n",
              "      <td>294</td>\n",
              "    </tr>\n",
              "  </tbody>\n",
              "</table>\n",
              "</div>"
            ],
            "text/plain": [
              "   count_industries\n",
              "0               294"
            ]
          },
          "execution_count": 78,
          "metadata": {},
          "output_type": "execute_result"
        }
      ],
      "source": [
        "# результат запроса\n",
        "ind_count_df = pd.read_sql_query(ind_count, connection)\n",
        "ind_count_df"
      ]
    },
    {
      "cell_type": "markdown",
      "id": "9a8a2181-6914-448b-85f1-38f5f18b8a93",
      "metadata": {
        "id": "9a8a2181-6914-448b-85f1-38f5f18b8a93"
      },
      "source": [
        "***"
      ]
    },
    {
      "cell_type": "markdown",
      "id": "98e16df3",
      "metadata": {},
      "source": [
        "# Выводы по предварительному анализу данных\n",
        "\n",
        "Первичное изучение данных необходимо для получения понимания об объекте анализа и дальнейшей работы с ним. Предлагаемые к изучению таблицы имеют разную размерность, а также обладают ключами, позволяющими объединить данные, содержащиеся в этих таблицах в единое целое для более детального и информативного изучения."
      ]
    },
    {
      "cell_type": "markdown",
      "id": "8d62a9f3-f64e-4fe7-bdac-c4dffa16155e",
      "metadata": {
        "id": "8d62a9f3-f64e-4fe7-bdac-c4dffa16155e"
      },
      "source": [
        "# Юнит 4. Детальный анализ вакансий"
      ]
    },
    {
      "cell_type": "markdown",
      "id": "93053d3d-b284-481a-9cf7-012d7014c0e0",
      "metadata": {
        "id": "93053d3d-b284-481a-9cf7-012d7014c0e0"
      },
      "source": [
        "1. Напишите запрос, который позволит узнать, сколько (cnt) вакансий в каждом регионе (area).\n",
        "Отсортируйте по количеству вакансий в порядке убывания."
      ]
    },
    {
      "cell_type": "code",
      "execution_count": 67,
      "id": "3f069da6-fdc9-4ae7-b514-fafe2675efd3",
      "metadata": {
        "id": "3f069da6-fdc9-4ae7-b514-fafe2675efd3"
      },
      "outputs": [],
      "source": [
        "# текст запроса\n",
        "count_areas = f'''select\n",
        "-- выводим общее количество вакансий\n",
        "-- и наименования регионов \n",
        "    count(v.name) AS cnt,\n",
        "    a.name AS area\n",
        "-- обращаемся к таблице вакансий    \n",
        "from \n",
        "    vacancies AS v\n",
        "-- объединяем таблицу вакансий с таблицей регионов\n",
        "-- где id региона равен id региона размещения вакансии    \n",
        "join areas AS a ON v.area_id = a.id\n",
        "-- группируем по регионам\n",
        "group by area\n",
        "-- сортируем количество вакансий по убыванию \n",
        "order by count(v.name) desc'''"
      ]
    },
    {
      "cell_type": "code",
      "execution_count": 68,
      "id": "P7QL86hrjhRJ",
      "metadata": {
        "id": "P7QL86hrjhRJ"
      },
      "outputs": [
        {
          "name": "stderr",
          "output_type": "stream",
          "text": [
            "C:\\Users\\IAMMI\\AppData\\Local\\Temp\\ipykernel_6888\\282430918.py:2: UserWarning: pandas only supports SQLAlchemy connectable (engine/connection) or database string URI or sqlite3 DBAPI2 connection. Other DBAPI2 objects are not tested. Please consider using SQLAlchemy.\n",
            "  count_areas_df = pd.read_sql_query(count_areas, connection)\n"
          ]
        },
        {
          "data": {
            "text/html": [
              "<div>\n",
              "<style scoped>\n",
              "    .dataframe tbody tr th:only-of-type {\n",
              "        vertical-align: middle;\n",
              "    }\n",
              "\n",
              "    .dataframe tbody tr th {\n",
              "        vertical-align: top;\n",
              "    }\n",
              "\n",
              "    .dataframe thead th {\n",
              "        text-align: right;\n",
              "    }\n",
              "</style>\n",
              "<table border=\"1\" class=\"dataframe\">\n",
              "  <thead>\n",
              "    <tr style=\"text-align: right;\">\n",
              "      <th></th>\n",
              "      <th>cnt</th>\n",
              "      <th>area</th>\n",
              "    </tr>\n",
              "  </thead>\n",
              "  <tbody>\n",
              "    <tr>\n",
              "      <th>0</th>\n",
              "      <td>5333</td>\n",
              "      <td>Москва</td>\n",
              "    </tr>\n",
              "    <tr>\n",
              "      <th>1</th>\n",
              "      <td>2851</td>\n",
              "      <td>Санкт-Петербург</td>\n",
              "    </tr>\n",
              "    <tr>\n",
              "      <th>2</th>\n",
              "      <td>2112</td>\n",
              "      <td>Минск</td>\n",
              "    </tr>\n",
              "    <tr>\n",
              "      <th>3</th>\n",
              "      <td>2006</td>\n",
              "      <td>Новосибирск</td>\n",
              "    </tr>\n",
              "    <tr>\n",
              "      <th>4</th>\n",
              "      <td>1892</td>\n",
              "      <td>Алматы</td>\n",
              "    </tr>\n",
              "    <tr>\n",
              "      <th>...</th>\n",
              "      <td>...</td>\n",
              "      <td>...</td>\n",
              "    </tr>\n",
              "    <tr>\n",
              "      <th>764</th>\n",
              "      <td>1</td>\n",
              "      <td>Тарко-Сале</td>\n",
              "    </tr>\n",
              "    <tr>\n",
              "      <th>765</th>\n",
              "      <td>1</td>\n",
              "      <td>Новоаннинский</td>\n",
              "    </tr>\n",
              "    <tr>\n",
              "      <th>766</th>\n",
              "      <td>1</td>\n",
              "      <td>Бирск</td>\n",
              "    </tr>\n",
              "    <tr>\n",
              "      <th>767</th>\n",
              "      <td>1</td>\n",
              "      <td>Сасово</td>\n",
              "    </tr>\n",
              "    <tr>\n",
              "      <th>768</th>\n",
              "      <td>1</td>\n",
              "      <td>Анна</td>\n",
              "    </tr>\n",
              "  </tbody>\n",
              "</table>\n",
              "<p>769 rows × 2 columns</p>\n",
              "</div>"
            ],
            "text/plain": [
              "      cnt             area\n",
              "0    5333           Москва\n",
              "1    2851  Санкт-Петербург\n",
              "2    2112            Минск\n",
              "3    2006      Новосибирск\n",
              "4    1892           Алматы\n",
              "..    ...              ...\n",
              "764     1       Тарко-Сале\n",
              "765     1    Новоаннинский\n",
              "766     1            Бирск\n",
              "767     1           Сасово\n",
              "768     1             Анна\n",
              "\n",
              "[769 rows x 2 columns]"
            ]
          },
          "execution_count": 68,
          "metadata": {},
          "output_type": "execute_result"
        }
      ],
      "source": [
        "# результат запроса\n",
        "count_areas_df = pd.read_sql_query(count_areas, connection)\n",
        "count_areas_df"
      ]
    },
    {
      "cell_type": "markdown",
      "id": "4266f0b6-1646-492a-88b4-2f6a46502135",
      "metadata": {
        "id": "4266f0b6-1646-492a-88b4-2f6a46502135"
      },
      "source": [
        "2. Напишите запрос, чтобы определить у какого количества вакансий заполнено хотя бы одно из двух полей с зарплатой."
      ]
    },
    {
      "cell_type": "code",
      "execution_count": 69,
      "id": "0c44b350-72eb-4d65-8b54-a1fc449ba9fd",
      "metadata": {
        "id": "0c44b350-72eb-4d65-8b54-a1fc449ba9fd"
      },
      "outputs": [],
      "source": [
        "# текст запроса\n",
        "count_salary_from_to = f'''select\n",
        "-- выводим количество вакансий\n",
        "    count(name) AS count_vac_with_salary\n",
        "-- обращаемся к таблице вакансий    \n",
        "from vacancies\n",
        "-- фильтруем по наличию не пустых строк в столбцах \n",
        "-- с минимальной и максимальной зарплатой\n",
        "where salary_from is not null or salary_to is not null'''"
      ]
    },
    {
      "cell_type": "code",
      "execution_count": 70,
      "id": "rhvwaMDkoWTi",
      "metadata": {
        "id": "rhvwaMDkoWTi"
      },
      "outputs": [
        {
          "name": "stderr",
          "output_type": "stream",
          "text": [
            "C:\\Users\\IAMMI\\AppData\\Local\\Temp\\ipykernel_6888\\4016844712.py:2: UserWarning: pandas only supports SQLAlchemy connectable (engine/connection) or database string URI or sqlite3 DBAPI2 connection. Other DBAPI2 objects are not tested. Please consider using SQLAlchemy.\n",
            "  count_salary_from_to_df = pd.read_sql_query(count_salary_from_to, connection)\n"
          ]
        },
        {
          "data": {
            "text/html": [
              "<div>\n",
              "<style scoped>\n",
              "    .dataframe tbody tr th:only-of-type {\n",
              "        vertical-align: middle;\n",
              "    }\n",
              "\n",
              "    .dataframe tbody tr th {\n",
              "        vertical-align: top;\n",
              "    }\n",
              "\n",
              "    .dataframe thead th {\n",
              "        text-align: right;\n",
              "    }\n",
              "</style>\n",
              "<table border=\"1\" class=\"dataframe\">\n",
              "  <thead>\n",
              "    <tr style=\"text-align: right;\">\n",
              "      <th></th>\n",
              "      <th>count_vac_with_salary</th>\n",
              "    </tr>\n",
              "  </thead>\n",
              "  <tbody>\n",
              "    <tr>\n",
              "      <th>0</th>\n",
              "      <td>24073</td>\n",
              "    </tr>\n",
              "  </tbody>\n",
              "</table>\n",
              "</div>"
            ],
            "text/plain": [
              "   count_vac_with_salary\n",
              "0                  24073"
            ]
          },
          "execution_count": 70,
          "metadata": {},
          "output_type": "execute_result"
        }
      ],
      "source": [
        "# результат запроса\n",
        "count_salary_from_to_df = pd.read_sql_query(count_salary_from_to, connection)\n",
        "count_salary_from_to_df"
      ]
    },
    {
      "cell_type": "markdown",
      "id": "635c4d5d-f323-4c66-b428-50a088120aa0",
      "metadata": {
        "id": "635c4d5d-f323-4c66-b428-50a088120aa0"
      },
      "source": [
        "3. Найдите средние значения для нижней и верхней границы зарплатной вилки. Округлите значения до целого."
      ]
    },
    {
      "cell_type": "code",
      "execution_count": 81,
      "id": "603cdbe4-0ec3-4106-8eaf-c73fcdd29165",
      "metadata": {
        "id": "603cdbe4-0ec3-4106-8eaf-c73fcdd29165"
      },
      "outputs": [],
      "source": [
        "# текст запроса\n",
        "avg_salary_from_to =  f'''select\n",
        "-- выводим среднее значение \n",
        "-- нижнего и верхнего значений зарплатной вилки\n",
        "    avg(salary_from) as salary_from,\n",
        "    avg(salary_to) as salary_to\n",
        "-- обращаемся к таблице вакансий\n",
        "from vacancies'''    "
      ]
    },
    {
      "cell_type": "code",
      "execution_count": 82,
      "id": "pswpAb66ovZZ",
      "metadata": {
        "id": "pswpAb66ovZZ"
      },
      "outputs": [
        {
          "name": "stderr",
          "output_type": "stream",
          "text": [
            "C:\\Users\\IAMMI\\AppData\\Local\\Temp\\ipykernel_6888\\913962371.py:2: UserWarning: pandas only supports SQLAlchemy connectable (engine/connection) or database string URI or sqlite3 DBAPI2 connection. Other DBAPI2 objects are not tested. Please consider using SQLAlchemy.\n",
            "  avg_salary_from_to_df = pd.read_sql_query(avg_salary_from_to,connection)\n"
          ]
        },
        {
          "data": {
            "text/html": [
              "<div>\n",
              "<style scoped>\n",
              "    .dataframe tbody tr th:only-of-type {\n",
              "        vertical-align: middle;\n",
              "    }\n",
              "\n",
              "    .dataframe tbody tr th {\n",
              "        vertical-align: top;\n",
              "    }\n",
              "\n",
              "    .dataframe thead th {\n",
              "        text-align: right;\n",
              "    }\n",
              "</style>\n",
              "<table border=\"1\" class=\"dataframe\">\n",
              "  <thead>\n",
              "    <tr style=\"text-align: right;\">\n",
              "      <th></th>\n",
              "      <th>salary_from</th>\n",
              "      <th>salary_to</th>\n",
              "    </tr>\n",
              "  </thead>\n",
              "  <tbody>\n",
              "    <tr>\n",
              "      <th>0</th>\n",
              "      <td>71065.0</td>\n",
              "      <td>110537.0</td>\n",
              "    </tr>\n",
              "  </tbody>\n",
              "</table>\n",
              "</div>"
            ],
            "text/plain": [
              "   salary_from  salary_to\n",
              "0      71065.0   110537.0"
            ]
          },
          "execution_count": 82,
          "metadata": {},
          "output_type": "execute_result"
        }
      ],
      "source": [
        "# результат запроса\n",
        "avg_salary_from_to_df = pd.read_sql_query(avg_salary_from_to,connection)\n",
        "round(avg_salary_from_to_df)"
      ]
    },
    {
      "cell_type": "markdown",
      "id": "f3fdaec9-5fd3-4260-9cf5-1d7406b628a5",
      "metadata": {
        "id": "f3fdaec9-5fd3-4260-9cf5-1d7406b628a5"
      },
      "source": [
        "4. Напишите запрос, который выведет количество вакансий для каждого сочетания типа рабочего графика (schedule) и типа трудоустройства (employment), используемого в вакансиях. Результат отсортируйте по убыванию количества.\n"
      ]
    },
    {
      "cell_type": "code",
      "execution_count": 83,
      "id": "1ea710ec-871b-431e-9462-c7d0fd87011b",
      "metadata": {
        "id": "1ea710ec-871b-431e-9462-c7d0fd87011b"
      },
      "outputs": [],
      "source": [
        "# текст запроса\n",
        "kombinasyon = f'''select\n",
        "-- выводим количество вакансий,\n",
        "-- тип рабочего графика,\n",
        "-- тип трудоустройства  \n",
        "    count(name) AS count_vacancies,\n",
        "    schedule,\n",
        "    employment \n",
        "-- обращаемся к таблице вакансий\n",
        "from vacancies\n",
        "-- группируем по типу рабочего графика\n",
        "-- и типу трудоустройства\n",
        "group by schedule, employment\n",
        "-- сортируем вакансии по убыванию\n",
        "order by count(name) desc'''"
      ]
    },
    {
      "cell_type": "code",
      "execution_count": 84,
      "id": "lGUVqavdo4JQ",
      "metadata": {
        "id": "lGUVqavdo4JQ"
      },
      "outputs": [
        {
          "name": "stderr",
          "output_type": "stream",
          "text": [
            "C:\\Users\\IAMMI\\AppData\\Local\\Temp\\ipykernel_6888\\2252412564.py:2: UserWarning: pandas only supports SQLAlchemy connectable (engine/connection) or database string URI or sqlite3 DBAPI2 connection. Other DBAPI2 objects are not tested. Please consider using SQLAlchemy.\n",
            "  kombinasyon_df = pd.read_sql_query(kombinasyon, connection)\n"
          ]
        },
        {
          "data": {
            "text/html": [
              "<div>\n",
              "<style scoped>\n",
              "    .dataframe tbody tr th:only-of-type {\n",
              "        vertical-align: middle;\n",
              "    }\n",
              "\n",
              "    .dataframe tbody tr th {\n",
              "        vertical-align: top;\n",
              "    }\n",
              "\n",
              "    .dataframe thead th {\n",
              "        text-align: right;\n",
              "    }\n",
              "</style>\n",
              "<table border=\"1\" class=\"dataframe\">\n",
              "  <thead>\n",
              "    <tr style=\"text-align: right;\">\n",
              "      <th></th>\n",
              "      <th>count_vacancies</th>\n",
              "      <th>schedule</th>\n",
              "      <th>employment</th>\n",
              "    </tr>\n",
              "  </thead>\n",
              "  <tbody>\n",
              "    <tr>\n",
              "      <th>0</th>\n",
              "      <td>35367</td>\n",
              "      <td>Полный день</td>\n",
              "      <td>Полная занятость</td>\n",
              "    </tr>\n",
              "    <tr>\n",
              "      <th>1</th>\n",
              "      <td>7802</td>\n",
              "      <td>Удаленная работа</td>\n",
              "      <td>Полная занятость</td>\n",
              "    </tr>\n",
              "    <tr>\n",
              "      <th>2</th>\n",
              "      <td>1593</td>\n",
              "      <td>Гибкий график</td>\n",
              "      <td>Полная занятость</td>\n",
              "    </tr>\n",
              "    <tr>\n",
              "      <th>3</th>\n",
              "      <td>1312</td>\n",
              "      <td>Удаленная работа</td>\n",
              "      <td>Частичная занятость</td>\n",
              "    </tr>\n",
              "    <tr>\n",
              "      <th>4</th>\n",
              "      <td>940</td>\n",
              "      <td>Сменный график</td>\n",
              "      <td>Полная занятость</td>\n",
              "    </tr>\n",
              "    <tr>\n",
              "      <th>5</th>\n",
              "      <td>569</td>\n",
              "      <td>Полный день</td>\n",
              "      <td>Стажировка</td>\n",
              "    </tr>\n",
              "    <tr>\n",
              "      <th>6</th>\n",
              "      <td>367</td>\n",
              "      <td>Вахтовый метод</td>\n",
              "      <td>Полная занятость</td>\n",
              "    </tr>\n",
              "    <tr>\n",
              "      <th>7</th>\n",
              "      <td>347</td>\n",
              "      <td>Полный день</td>\n",
              "      <td>Частичная занятость</td>\n",
              "    </tr>\n",
              "    <tr>\n",
              "      <th>8</th>\n",
              "      <td>312</td>\n",
              "      <td>Гибкий график</td>\n",
              "      <td>Частичная занятость</td>\n",
              "    </tr>\n",
              "    <tr>\n",
              "      <th>9</th>\n",
              "      <td>141</td>\n",
              "      <td>Полный день</td>\n",
              "      <td>Проектная работа</td>\n",
              "    </tr>\n",
              "    <tr>\n",
              "      <th>10</th>\n",
              "      <td>133</td>\n",
              "      <td>Удаленная работа</td>\n",
              "      <td>Проектная работа</td>\n",
              "    </tr>\n",
              "    <tr>\n",
              "      <th>11</th>\n",
              "      <td>116</td>\n",
              "      <td>Гибкий график</td>\n",
              "      <td>Стажировка</td>\n",
              "    </tr>\n",
              "    <tr>\n",
              "      <th>12</th>\n",
              "      <td>101</td>\n",
              "      <td>Сменный график</td>\n",
              "      <td>Частичная занятость</td>\n",
              "    </tr>\n",
              "    <tr>\n",
              "      <th>13</th>\n",
              "      <td>64</td>\n",
              "      <td>Удаленная работа</td>\n",
              "      <td>Стажировка</td>\n",
              "    </tr>\n",
              "    <tr>\n",
              "      <th>14</th>\n",
              "      <td>18</td>\n",
              "      <td>Гибкий график</td>\n",
              "      <td>Проектная работа</td>\n",
              "    </tr>\n",
              "    <tr>\n",
              "      <th>15</th>\n",
              "      <td>12</td>\n",
              "      <td>Сменный график</td>\n",
              "      <td>Стажировка</td>\n",
              "    </tr>\n",
              "    <tr>\n",
              "      <th>16</th>\n",
              "      <td>2</td>\n",
              "      <td>Вахтовый метод</td>\n",
              "      <td>Проектная работа</td>\n",
              "    </tr>\n",
              "    <tr>\n",
              "      <th>17</th>\n",
              "      <td>1</td>\n",
              "      <td>Сменный график</td>\n",
              "      <td>Проектная работа</td>\n",
              "    </tr>\n",
              "  </tbody>\n",
              "</table>\n",
              "</div>"
            ],
            "text/plain": [
              "    count_vacancies          schedule           employment\n",
              "0             35367       Полный день     Полная занятость\n",
              "1              7802  Удаленная работа     Полная занятость\n",
              "2              1593     Гибкий график     Полная занятость\n",
              "3              1312  Удаленная работа  Частичная занятость\n",
              "4               940    Сменный график     Полная занятость\n",
              "5               569       Полный день           Стажировка\n",
              "6               367    Вахтовый метод     Полная занятость\n",
              "7               347       Полный день  Частичная занятость\n",
              "8               312     Гибкий график  Частичная занятость\n",
              "9               141       Полный день     Проектная работа\n",
              "10              133  Удаленная работа     Проектная работа\n",
              "11              116     Гибкий график           Стажировка\n",
              "12              101    Сменный график  Частичная занятость\n",
              "13               64  Удаленная работа           Стажировка\n",
              "14               18     Гибкий график     Проектная работа\n",
              "15               12    Сменный график           Стажировка\n",
              "16                2    Вахтовый метод     Проектная работа\n",
              "17                1    Сменный график     Проектная работа"
            ]
          },
          "execution_count": 84,
          "metadata": {},
          "output_type": "execute_result"
        }
      ],
      "source": [
        "# результат запроса\n",
        "kombinasyon_df = pd.read_sql_query(kombinasyon, connection)\n",
        "kombinasyon_df"
      ]
    },
    {
      "cell_type": "markdown",
      "id": "0136ffee-0ead-4a6b-b608-61d1c753a438",
      "metadata": {
        "id": "0136ffee-0ead-4a6b-b608-61d1c753a438"
      },
      "source": [
        "5. Напишите запрос, выводящий значения поля Требуемый опыт работы (experience) в порядке возрастания количества вакансий, в которых указан данный вариант опыта. "
      ]
    },
    {
      "cell_type": "code",
      "execution_count": 85,
      "id": "5b3a8e79-f7ab-4008-b767-12aea3a205ea",
      "metadata": {
        "id": "5b3a8e79-f7ab-4008-b767-12aea3a205ea"
      },
      "outputs": [],
      "source": [
        "# текст запроса\n",
        "experience = f'''select\n",
        "-- выводим требуемый опыт работы\n",
        "-- и количество вакансий\n",
        "    experience,\n",
        "    count(name) AS vacancies\n",
        "-- обращаемся к таблице вакансий\n",
        "from vacancies\n",
        "-- группируем по опыту работы\n",
        "group by experience\n",
        "-- сортируем вакансии по убыванию\n",
        "order by count(name)''' "
      ]
    },
    {
      "cell_type": "code",
      "execution_count": 86,
      "id": "3Is64Y-hpDpq",
      "metadata": {
        "id": "3Is64Y-hpDpq"
      },
      "outputs": [
        {
          "name": "stderr",
          "output_type": "stream",
          "text": [
            "C:\\Users\\IAMMI\\AppData\\Local\\Temp\\ipykernel_6888\\38369888.py:2: UserWarning: pandas only supports SQLAlchemy connectable (engine/connection) or database string URI or sqlite3 DBAPI2 connection. Other DBAPI2 objects are not tested. Please consider using SQLAlchemy.\n",
            "  experience_df = pd.read_sql_query(experience, connection)\n"
          ]
        },
        {
          "data": {
            "text/html": [
              "<div>\n",
              "<style scoped>\n",
              "    .dataframe tbody tr th:only-of-type {\n",
              "        vertical-align: middle;\n",
              "    }\n",
              "\n",
              "    .dataframe tbody tr th {\n",
              "        vertical-align: top;\n",
              "    }\n",
              "\n",
              "    .dataframe thead th {\n",
              "        text-align: right;\n",
              "    }\n",
              "</style>\n",
              "<table border=\"1\" class=\"dataframe\">\n",
              "  <thead>\n",
              "    <tr style=\"text-align: right;\">\n",
              "      <th></th>\n",
              "      <th>experience</th>\n",
              "      <th>vacancies</th>\n",
              "    </tr>\n",
              "  </thead>\n",
              "  <tbody>\n",
              "    <tr>\n",
              "      <th>0</th>\n",
              "      <td>Более 6 лет</td>\n",
              "      <td>1337</td>\n",
              "    </tr>\n",
              "    <tr>\n",
              "      <th>1</th>\n",
              "      <td>Нет опыта</td>\n",
              "      <td>7197</td>\n",
              "    </tr>\n",
              "    <tr>\n",
              "      <th>2</th>\n",
              "      <td>От 3 до 6 лет</td>\n",
              "      <td>14511</td>\n",
              "    </tr>\n",
              "    <tr>\n",
              "      <th>3</th>\n",
              "      <td>От 1 года до 3 лет</td>\n",
              "      <td>26152</td>\n",
              "    </tr>\n",
              "  </tbody>\n",
              "</table>\n",
              "</div>"
            ],
            "text/plain": [
              "           experience  vacancies\n",
              "0         Более 6 лет       1337\n",
              "1           Нет опыта       7197\n",
              "2       От 3 до 6 лет      14511\n",
              "3  От 1 года до 3 лет      26152"
            ]
          },
          "execution_count": 86,
          "metadata": {},
          "output_type": "execute_result"
        }
      ],
      "source": [
        "# результат запроса\n",
        "experience_df = pd.read_sql_query(experience, connection)\n",
        "experience_df"
      ]
    },
    {
      "cell_type": "markdown",
      "id": "oq2b7n1QpIka",
      "metadata": {
        "id": "oq2b7n1QpIka"
      },
      "source": [
        "***"
      ]
    },
    {
      "cell_type": "markdown",
      "id": "ab5c7dc9",
      "metadata": {},
      "source": [
        "# Выводы по детальному анализу вакансий\n",
        "\n",
        "Анализу были подвергнуты данные отражающие информацию о количестве вакансий, их месту нахождения и графиках работы, а также данные об необходимом опыте работы и о предлагаемой заработной плате. Из проведённого анализа следует, что максимальное количество вакансий сосредоточенно в пятерке городов:\n",
        "- Москва - 5 333 вакансии;\n",
        "- Санкт-Петербург - 2 851 вакансия;\n",
        "- Минск - 2 112 вакансий;\n",
        "- Новосибирск - 2 006 вакансий;\n",
        "- Алматы - 1 892 вакансии.\n",
        "Общее количество вакансий, приходящихся на эти города - 14 194, что является примерно третью от общего количества вакансий (49 197).\n",
        "\n",
        "Стоит отметить, что более 50 % предлагаемых вакансий (26 152) требуют от соискателя наличие опыта работы от 1 года до 3 лет. Можно сделать вывод, что в целом, рынок труда нацелен на поиск начинающих специалистов, а также специалистов среднего уровня. Также большинство вакансий (35 367) в качестве предлагаемых типа рабочего графика и типа трудоустройства предоставляют соискателю тип графика - полный день, а тип трудоустройства - полная занятость. На втором по количеству вакансий месте - сочетание типов удаленная работа и полная занятость (7 902 вакансии).\n",
        "\n",
        "Анализу также подверглась информативность вакансий, в частности было проанализировано наличие в вакансиях указаний на заработную плату. Так, примерно половина вакансий (24 073) содержит указание о заработной плате(проверялось наличие нижнего или верхнего порогов зарплатной вилки). Стоит обратить внимание, что в целом рынок труда предлагает довольно приемлемую оплату труда, поскольку средний показатель нижней границы зарплатной вилки составляет 71 065 рублей, а верхней границы - 110 537 рублей.\n",
        "\n"
      ]
    },
    {
      "cell_type": "markdown",
      "id": "7ea20ab6-04a7-40a0-adec-443a0e5a42c3",
      "metadata": {
        "id": "7ea20ab6-04a7-40a0-adec-443a0e5a42c3"
      },
      "source": [
        "# Юнит 5. Анализ работодателей"
      ]
    },
    {
      "cell_type": "markdown",
      "id": "968aed80-74ef-4ffb-b5bf-c65b84e9caea",
      "metadata": {
        "id": "968aed80-74ef-4ffb-b5bf-c65b84e9caea"
      },
      "source": [
        "1. Напишите запрос, который позволит узнать, какие работодатели находятся на первом и пятом месте по количеству вакансий."
      ]
    },
    {
      "cell_type": "code",
      "execution_count": 87,
      "id": "f2d62796-d400-4ec1-a675-88112739a50e",
      "metadata": {
        "id": "f2d62796-d400-4ec1-a675-88112739a50e"
      },
      "outputs": [],
      "source": [
        "# текст запроса\n",
        "top_employers = f'''select\n",
        "-- выводим наименование работодателя\n",
        "-- и количество вакансий\n",
        "    emp.name AS employers,\n",
        "    count(v.name) AS count_vacancies\n",
        "-- обращаемся к таблице работодателей\n",
        "from employers AS emp\n",
        "-- объединяем с таблицей вакансий\n",
        "-- где id работодателя равно id работодателя в таблице вакансий\n",
        "join vacancies AS v ON v.employer_id = emp.id\n",
        "-- группируем по работодателям\n",
        "group by employers\n",
        "-- сортируем по вакансиям в порядке убывания\n",
        "order by count(v.name) desc\n",
        "-- выводим пять первых строк\n",
        "limit 5''' "
      ]
    },
    {
      "cell_type": "code",
      "execution_count": 88,
      "id": "64tOMkAxqkQk",
      "metadata": {
        "id": "64tOMkAxqkQk"
      },
      "outputs": [
        {
          "name": "stderr",
          "output_type": "stream",
          "text": [
            "C:\\Users\\IAMMI\\AppData\\Local\\Temp\\ipykernel_6888\\2503381715.py:2: UserWarning: pandas only supports SQLAlchemy connectable (engine/connection) or database string URI or sqlite3 DBAPI2 connection. Other DBAPI2 objects are not tested. Please consider using SQLAlchemy.\n",
            "  top_employers_df = pd.read_sql_query(top_employers, connection)\n"
          ]
        },
        {
          "data": {
            "text/html": [
              "<div>\n",
              "<style scoped>\n",
              "    .dataframe tbody tr th:only-of-type {\n",
              "        vertical-align: middle;\n",
              "    }\n",
              "\n",
              "    .dataframe tbody tr th {\n",
              "        vertical-align: top;\n",
              "    }\n",
              "\n",
              "    .dataframe thead th {\n",
              "        text-align: right;\n",
              "    }\n",
              "</style>\n",
              "<table border=\"1\" class=\"dataframe\">\n",
              "  <thead>\n",
              "    <tr style=\"text-align: right;\">\n",
              "      <th></th>\n",
              "      <th>employers</th>\n",
              "      <th>count_vacancies</th>\n",
              "    </tr>\n",
              "  </thead>\n",
              "  <tbody>\n",
              "    <tr>\n",
              "      <th>0</th>\n",
              "      <td>Яндекс</td>\n",
              "      <td>1933</td>\n",
              "    </tr>\n",
              "    <tr>\n",
              "      <th>1</th>\n",
              "      <td>Ростелеком</td>\n",
              "      <td>491</td>\n",
              "    </tr>\n",
              "    <tr>\n",
              "      <th>2</th>\n",
              "      <td>Тинькофф</td>\n",
              "      <td>444</td>\n",
              "    </tr>\n",
              "    <tr>\n",
              "      <th>3</th>\n",
              "      <td>СБЕР</td>\n",
              "      <td>428</td>\n",
              "    </tr>\n",
              "    <tr>\n",
              "      <th>4</th>\n",
              "      <td>Газпром нефть</td>\n",
              "      <td>331</td>\n",
              "    </tr>\n",
              "  </tbody>\n",
              "</table>\n",
              "</div>"
            ],
            "text/plain": [
              "       employers  count_vacancies\n",
              "0         Яндекс             1933\n",
              "1     Ростелеком              491\n",
              "2       Тинькофф              444\n",
              "3           СБЕР              428\n",
              "4  Газпром нефть              331"
            ]
          },
          "execution_count": 88,
          "metadata": {},
          "output_type": "execute_result"
        }
      ],
      "source": [
        "# результат запроса\n",
        "top_employers_df = pd.read_sql_query(top_employers, connection)\n",
        "top_employers_df"
      ]
    },
    {
      "cell_type": "markdown",
      "id": "68377cfc-b378-43dc-ab7d-1195abf2c515",
      "metadata": {
        "id": "68377cfc-b378-43dc-ab7d-1195abf2c515"
      },
      "source": [
        "2. Напишите запрос, который для каждого региона выведет количество работодателей и вакансий в нём.\n",
        "Среди регионов, в которых нет вакансий, найдите тот, в котором наибольшее количество работодателей.\n"
      ]
    },
    {
      "cell_type": "code",
      "execution_count": 89,
      "id": "dd7df27a-e3e8-412e-a21a-5d389b71e891",
      "metadata": {
        "id": "dd7df27a-e3e8-412e-a21a-5d389b71e891"
      },
      "outputs": [],
      "source": [
        "# текст запроса\n",
        "count_area_employers = f''' select\n",
        "-- выводим наименование региона,\n",
        "-- количество работодателей\n",
        "-- и количество вакансий\n",
        "    ar.name AS area,\n",
        "    count(emp.name) AS count_employers,\n",
        "    count(v.name) AS count_vacancies\n",
        "-- обращаемся к таблице регионов\n",
        "from areas AS ar\n",
        "-- присоединяем ко всей таблице регионов таблицу работодателей\n",
        "-- где id региона равен id региону работодателя\n",
        "left join employers AS emp ON ar.id = emp.area\n",
        "-- присоединяем таблицу вакансий\n",
        "-- где id региона равен id региону вакансии\n",
        "left join vacancies AS v ON ar.id = v.area_id\n",
        "-- группируем по регионам\n",
        "group by ar.name\n",
        "-- фильтруем по количеству вакансий\n",
        "having count(v.name) = 0\n",
        "-- сортируем по количеству работодателей\n",
        "order by count(emp.name) desc'''"
      ]
    },
    {
      "cell_type": "code",
      "execution_count": 90,
      "id": "x1ikWbydrbf6",
      "metadata": {
        "id": "x1ikWbydrbf6"
      },
      "outputs": [
        {
          "name": "stderr",
          "output_type": "stream",
          "text": [
            "C:\\Users\\IAMMI\\AppData\\Local\\Temp\\ipykernel_6888\\1990352973.py:2: UserWarning: pandas only supports SQLAlchemy connectable (engine/connection) or database string URI or sqlite3 DBAPI2 connection. Other DBAPI2 objects are not tested. Please consider using SQLAlchemy.\n",
            "  count_area_employers_df = pd.read_sql_query(count_area_employers, connection)\n"
          ]
        },
        {
          "data": {
            "text/html": [
              "<div>\n",
              "<style scoped>\n",
              "    .dataframe tbody tr th:only-of-type {\n",
              "        vertical-align: middle;\n",
              "    }\n",
              "\n",
              "    .dataframe tbody tr th {\n",
              "        vertical-align: top;\n",
              "    }\n",
              "\n",
              "    .dataframe thead th {\n",
              "        text-align: right;\n",
              "    }\n",
              "</style>\n",
              "<table border=\"1\" class=\"dataframe\">\n",
              "  <thead>\n",
              "    <tr style=\"text-align: right;\">\n",
              "      <th></th>\n",
              "      <th>area</th>\n",
              "      <th>count_employers</th>\n",
              "      <th>count_vacancies</th>\n",
              "    </tr>\n",
              "  </thead>\n",
              "  <tbody>\n",
              "    <tr>\n",
              "      <th>0</th>\n",
              "      <td>Россия</td>\n",
              "      <td>410</td>\n",
              "      <td>0</td>\n",
              "    </tr>\n",
              "    <tr>\n",
              "      <th>1</th>\n",
              "      <td>Казахстан</td>\n",
              "      <td>207</td>\n",
              "      <td>0</td>\n",
              "    </tr>\n",
              "    <tr>\n",
              "      <th>2</th>\n",
              "      <td>Московская область</td>\n",
              "      <td>75</td>\n",
              "      <td>0</td>\n",
              "    </tr>\n",
              "    <tr>\n",
              "      <th>3</th>\n",
              "      <td>Краснодарский край</td>\n",
              "      <td>19</td>\n",
              "      <td>0</td>\n",
              "    </tr>\n",
              "    <tr>\n",
              "      <th>4</th>\n",
              "      <td>Ростовская область</td>\n",
              "      <td>18</td>\n",
              "      <td>0</td>\n",
              "    </tr>\n",
              "    <tr>\n",
              "      <th>...</th>\n",
              "      <td>...</td>\n",
              "      <td>...</td>\n",
              "      <td>...</td>\n",
              "    </tr>\n",
              "    <tr>\n",
              "      <th>588</th>\n",
              "      <td>Струнино</td>\n",
              "      <td>0</td>\n",
              "      <td>0</td>\n",
              "    </tr>\n",
              "    <tr>\n",
              "      <th>589</th>\n",
              "      <td>Славгород (Алтайский край)</td>\n",
              "      <td>0</td>\n",
              "      <td>0</td>\n",
              "    </tr>\n",
              "    <tr>\n",
              "      <th>590</th>\n",
              "      <td>Сорочинск</td>\n",
              "      <td>0</td>\n",
              "      <td>0</td>\n",
              "    </tr>\n",
              "    <tr>\n",
              "      <th>591</th>\n",
              "      <td>Ленинский (Тульская область)</td>\n",
              "      <td>0</td>\n",
              "      <td>0</td>\n",
              "    </tr>\n",
              "    <tr>\n",
              "      <th>592</th>\n",
              "      <td>Тавда</td>\n",
              "      <td>0</td>\n",
              "      <td>0</td>\n",
              "    </tr>\n",
              "  </tbody>\n",
              "</table>\n",
              "<p>593 rows × 3 columns</p>\n",
              "</div>"
            ],
            "text/plain": [
              "                             area  count_employers  count_vacancies\n",
              "0                          Россия              410                0\n",
              "1                       Казахстан              207                0\n",
              "2              Московская область               75                0\n",
              "3              Краснодарский край               19                0\n",
              "4              Ростовская область               18                0\n",
              "..                            ...              ...              ...\n",
              "588                      Струнино                0                0\n",
              "589    Славгород (Алтайский край)                0                0\n",
              "590                     Сорочинск                0                0\n",
              "591  Ленинский (Тульская область)                0                0\n",
              "592                         Тавда                0                0\n",
              "\n",
              "[593 rows x 3 columns]"
            ]
          },
          "execution_count": 90,
          "metadata": {},
          "output_type": "execute_result"
        }
      ],
      "source": [
        "# результат запроса\n",
        "count_area_employers_df = pd.read_sql_query(count_area_employers, connection)\n",
        "count_area_employers_df"
      ]
    },
    {
      "cell_type": "markdown",
      "id": "f2fe0acb-ab1a-4e15-9326-2560e22d73c1",
      "metadata": {
        "id": "f2fe0acb-ab1a-4e15-9326-2560e22d73c1"
      },
      "source": [
        "3. Для каждого работодателя посчитайте количество регионов, в которых он публикует свои вакансии. Отсортируйте результат по убыванию количества.\n"
      ]
    },
    {
      "cell_type": "code",
      "execution_count": 91,
      "id": "6271f8ad-bd2e-4196-ae4a-5b39c4c1010e",
      "metadata": {
        "id": "6271f8ad-bd2e-4196-ae4a-5b39c4c1010e"
      },
      "outputs": [],
      "source": [
        "# текст запроса\n",
        "employers_area = f'''select\n",
        "-- выводим работодателей\n",
        "-- и количество регионов \n",
        "    emp.name AS employer_name,\n",
        "    count(distinct v.area_id) AS count_areas \n",
        "-- обращаемся к таблице работодателей\n",
        "from employers AS emp\n",
        "-- присоединяем таблицу вакансий\n",
        "-- где id работодателя равен id вакансии работодателя\n",
        "join vacancies AS v ON v.employer_id=emp.id\n",
        "-- группируем по работодателю\n",
        "group by emp.name\n",
        "-- сортируем по количеству вакансий в порядке убывания\n",
        "order by count(distinct v.area_id) desc'''"
      ]
    },
    {
      "cell_type": "code",
      "execution_count": 92,
      "id": "1EIvX3HasH4F",
      "metadata": {
        "id": "1EIvX3HasH4F"
      },
      "outputs": [
        {
          "name": "stderr",
          "output_type": "stream",
          "text": [
            "C:\\Users\\IAMMI\\AppData\\Local\\Temp\\ipykernel_6888\\1420398628.py:2: UserWarning: pandas only supports SQLAlchemy connectable (engine/connection) or database string URI or sqlite3 DBAPI2 connection. Other DBAPI2 objects are not tested. Please consider using SQLAlchemy.\n",
            "  employers_area_df = pd.read_sql_query(employers_area, connection)\n"
          ]
        },
        {
          "data": {
            "text/html": [
              "<div>\n",
              "<style scoped>\n",
              "    .dataframe tbody tr th:only-of-type {\n",
              "        vertical-align: middle;\n",
              "    }\n",
              "\n",
              "    .dataframe tbody tr th {\n",
              "        vertical-align: top;\n",
              "    }\n",
              "\n",
              "    .dataframe thead th {\n",
              "        text-align: right;\n",
              "    }\n",
              "</style>\n",
              "<table border=\"1\" class=\"dataframe\">\n",
              "  <thead>\n",
              "    <tr style=\"text-align: right;\">\n",
              "      <th></th>\n",
              "      <th>employer_name</th>\n",
              "      <th>count_areas</th>\n",
              "    </tr>\n",
              "  </thead>\n",
              "  <tbody>\n",
              "    <tr>\n",
              "      <th>0</th>\n",
              "      <td>Яндекс</td>\n",
              "      <td>181</td>\n",
              "    </tr>\n",
              "    <tr>\n",
              "      <th>1</th>\n",
              "      <td>Ростелеком</td>\n",
              "      <td>152</td>\n",
              "    </tr>\n",
              "    <tr>\n",
              "      <th>2</th>\n",
              "      <td>Спецремонт</td>\n",
              "      <td>116</td>\n",
              "    </tr>\n",
              "    <tr>\n",
              "      <th>3</th>\n",
              "      <td>Поляков Денис Иванович</td>\n",
              "      <td>88</td>\n",
              "    </tr>\n",
              "    <tr>\n",
              "      <th>4</th>\n",
              "      <td>ООО ЕФИН</td>\n",
              "      <td>71</td>\n",
              "    </tr>\n",
              "    <tr>\n",
              "      <th>...</th>\n",
              "      <td>...</td>\n",
              "      <td>...</td>\n",
              "    </tr>\n",
              "    <tr>\n",
              "      <th>14761</th>\n",
              "      <td>UniSol</td>\n",
              "      <td>1</td>\n",
              "    </tr>\n",
              "    <tr>\n",
              "      <th>14762</th>\n",
              "      <td>UNISTORY LLC</td>\n",
              "      <td>1</td>\n",
              "    </tr>\n",
              "    <tr>\n",
              "      <th>14763</th>\n",
              "      <td>UNIT6</td>\n",
              "      <td>1</td>\n",
              "    </tr>\n",
              "    <tr>\n",
              "      <th>14764</th>\n",
              "      <td>United Distribution</td>\n",
              "      <td>1</td>\n",
              "    </tr>\n",
              "    <tr>\n",
              "      <th>14765</th>\n",
              "      <td>UNITEL LLC</td>\n",
              "      <td>1</td>\n",
              "    </tr>\n",
              "  </tbody>\n",
              "</table>\n",
              "<p>14766 rows × 2 columns</p>\n",
              "</div>"
            ],
            "text/plain": [
              "                employer_name  count_areas\n",
              "0                      Яндекс          181\n",
              "1                  Ростелеком          152\n",
              "2                  Спецремонт          116\n",
              "3      Поляков Денис Иванович           88\n",
              "4                   ООО ЕФИН            71\n",
              "...                       ...          ...\n",
              "14761                  UniSol            1\n",
              "14762            UNISTORY LLC            1\n",
              "14763                   UNIT6            1\n",
              "14764     United Distribution            1\n",
              "14765              UNITEL LLC            1\n",
              "\n",
              "[14766 rows x 2 columns]"
            ]
          },
          "execution_count": 92,
          "metadata": {},
          "output_type": "execute_result"
        }
      ],
      "source": [
        "# результат запроса\n",
        "employers_area_df = pd.read_sql_query(employers_area, connection)\n",
        "employers_area_df"
      ]
    },
    {
      "cell_type": "markdown",
      "id": "eab2206d-d95b-468b-8e5f-34381abf0ce7",
      "metadata": {
        "id": "eab2206d-d95b-468b-8e5f-34381abf0ce7"
      },
      "source": [
        "4. Напишите запрос для подсчёта количества работодателей, у которых не указана сфера деятельности. "
      ]
    },
    {
      "cell_type": "code",
      "execution_count": 93,
      "id": "80defb23-bfb1-4a18-8be6-bf36aa7165d5",
      "metadata": {
        "id": "80defb23-bfb1-4a18-8be6-bf36aa7165d5"
      },
      "outputs": [],
      "source": [
        "# текст запроса\n",
        "emp_industries = f'''select \n",
        "-- выводим количество работодателей\n",
        "    count(emp.name) AS count_emp_without_ind  \n",
        "-- обращаемся к таблице работодателей\n",
        "from employers AS emp\n",
        "-- присоединяем ко всей таблице работодателей таблицу со сферами деятельности работодателей\n",
        "-- где id работодателя равен id сфере деятельности работодателя\n",
        "left join employers_industries AS ei ON emp.id = ei.employer_id\n",
        "-- фильтруем по наличию пустых значений в столбце со сферой деятельности\n",
        "where ei.industry_id is null'''"
      ]
    },
    {
      "cell_type": "code",
      "execution_count": 94,
      "id": "Dp_yCx6ysQSu",
      "metadata": {
        "id": "Dp_yCx6ysQSu"
      },
      "outputs": [
        {
          "name": "stderr",
          "output_type": "stream",
          "text": [
            "C:\\Users\\IAMMI\\AppData\\Local\\Temp\\ipykernel_6888\\3784121009.py:2: UserWarning: pandas only supports SQLAlchemy connectable (engine/connection) or database string URI or sqlite3 DBAPI2 connection. Other DBAPI2 objects are not tested. Please consider using SQLAlchemy.\n",
            "  emp_industries_df = pd.read_sql_query(emp_industries, connection)\n"
          ]
        },
        {
          "data": {
            "text/html": [
              "<div>\n",
              "<style scoped>\n",
              "    .dataframe tbody tr th:only-of-type {\n",
              "        vertical-align: middle;\n",
              "    }\n",
              "\n",
              "    .dataframe tbody tr th {\n",
              "        vertical-align: top;\n",
              "    }\n",
              "\n",
              "    .dataframe thead th {\n",
              "        text-align: right;\n",
              "    }\n",
              "</style>\n",
              "<table border=\"1\" class=\"dataframe\">\n",
              "  <thead>\n",
              "    <tr style=\"text-align: right;\">\n",
              "      <th></th>\n",
              "      <th>count_emp_without_ind</th>\n",
              "    </tr>\n",
              "  </thead>\n",
              "  <tbody>\n",
              "    <tr>\n",
              "      <th>0</th>\n",
              "      <td>8419</td>\n",
              "    </tr>\n",
              "  </tbody>\n",
              "</table>\n",
              "</div>"
            ],
            "text/plain": [
              "   count_emp_without_ind\n",
              "0                   8419"
            ]
          },
          "execution_count": 94,
          "metadata": {},
          "output_type": "execute_result"
        }
      ],
      "source": [
        "# результат запроса\n",
        "emp_industries_df = pd.read_sql_query(emp_industries, connection)\n",
        "emp_industries_df"
      ]
    },
    {
      "cell_type": "markdown",
      "id": "0112af31-f6b0-4e3b-82ab-71296e752e5e",
      "metadata": {
        "id": "0112af31-f6b0-4e3b-82ab-71296e752e5e"
      },
      "source": [
        "5. Напишите запрос, чтобы узнать название компании, находящейся на третьем месте в алфавитном списке (по названию) компаний, у которых указано четыре сферы деятельности. "
      ]
    },
    {
      "cell_type": "code",
      "execution_count": 95,
      "id": "973b0cfc-a972-470a-8b4a-68744ef220c4",
      "metadata": {
        "id": "973b0cfc-a972-470a-8b4a-68744ef220c4"
      },
      "outputs": [],
      "source": [
        "# текст запроса\n",
        "emp_name = f'''select\n",
        "-- выводим наименование работодателя \n",
        "    emp.name AS employer_name \n",
        "-- обращаемся к таблице работодателей\n",
        "from employers AS emp\n",
        "-- присоединяем ко всей таблице работодателей таблицу со сферами деятельности работодателей \n",
        "-- где id работодателя равен id сфере деятельности работодателя\n",
        "left join employers_industries AS ei ON emp.id = ei.employer_id\n",
        "-- группируем по id работодателя\n",
        "group by emp.id \n",
        "-- фильтруем по количеству сфер деятельности\n",
        "having count(ei.industry_id) = 4\n",
        "-- сортируем по наименованию работодателя\n",
        "order by emp.name\n",
        "-- выводим третью строку\n",
        "offset 2 limit 1'''"
      ]
    },
    {
      "cell_type": "code",
      "execution_count": 96,
      "id": "xsPtpp8EsaED",
      "metadata": {
        "id": "xsPtpp8EsaED"
      },
      "outputs": [
        {
          "name": "stderr",
          "output_type": "stream",
          "text": [
            "C:\\Users\\IAMMI\\AppData\\Local\\Temp\\ipykernel_6888\\1393481143.py:2: UserWarning: pandas only supports SQLAlchemy connectable (engine/connection) or database string URI or sqlite3 DBAPI2 connection. Other DBAPI2 objects are not tested. Please consider using SQLAlchemy.\n",
            "  emp_name_df = pd.read_sql_query(emp_name, connection)\n"
          ]
        },
        {
          "data": {
            "text/html": [
              "<div>\n",
              "<style scoped>\n",
              "    .dataframe tbody tr th:only-of-type {\n",
              "        vertical-align: middle;\n",
              "    }\n",
              "\n",
              "    .dataframe tbody tr th {\n",
              "        vertical-align: top;\n",
              "    }\n",
              "\n",
              "    .dataframe thead th {\n",
              "        text-align: right;\n",
              "    }\n",
              "</style>\n",
              "<table border=\"1\" class=\"dataframe\">\n",
              "  <thead>\n",
              "    <tr style=\"text-align: right;\">\n",
              "      <th></th>\n",
              "      <th>employer_name</th>\n",
              "    </tr>\n",
              "  </thead>\n",
              "  <tbody>\n",
              "    <tr>\n",
              "      <th>0</th>\n",
              "      <td>2ГИС</td>\n",
              "    </tr>\n",
              "  </tbody>\n",
              "</table>\n",
              "</div>"
            ],
            "text/plain": [
              "  employer_name\n",
              "0          2ГИС"
            ]
          },
          "execution_count": 96,
          "metadata": {},
          "output_type": "execute_result"
        }
      ],
      "source": [
        "# результат запроса\n",
        "emp_name_df = pd.read_sql_query(emp_name, connection)\n",
        "emp_name_df"
      ]
    },
    {
      "cell_type": "markdown",
      "id": "3bfcfdaf-755d-4d2b-8ed8-326201dc07ab",
      "metadata": {
        "id": "3bfcfdaf-755d-4d2b-8ed8-326201dc07ab"
      },
      "source": [
        "6. С помощью запроса выясните, у какого количества работодателей в качестве сферы деятельности указана Разработка программного обеспечения.\n"
      ]
    },
    {
      "cell_type": "code",
      "execution_count": 97,
      "id": "ad3f270f-2991-47eb-929b-e8f88a55b0d1",
      "metadata": {
        "id": "ad3f270f-2991-47eb-929b-e8f88a55b0d1"
      },
      "outputs": [],
      "source": [
        "# текст запроса\n",
        "emp_ind = f'''select\n",
        "-- выводим количество работодателей \n",
        "    count(emp.name) AS count_employers \n",
        "-- обращаемся к таблице работодателей\n",
        "from employers AS emp\n",
        "-- присоединяем ко всей таблице работодателей таблицу со сферами деятельности работодателей \n",
        "-- где id работодателя равен id сфере деятельности работодателя\n",
        "left join employers_industries AS ei ON emp.id = ei.employer_id\n",
        "-- присоединяем таблицу с вариантами деятельности работодателей\n",
        "-- где id сферы деятельности работодателя равен id варианта сферы деятельности\n",
        "left join industries AS ind ON ei.industry_id = ind.id \n",
        "-- фильтруем по названию сферы деятельности\n",
        "where ind.name = 'Разработка программного обеспечения' '''"
      ]
    },
    {
      "cell_type": "code",
      "execution_count": 98,
      "id": "H72qxWM0shPR",
      "metadata": {
        "id": "H72qxWM0shPR"
      },
      "outputs": [
        {
          "name": "stderr",
          "output_type": "stream",
          "text": [
            "C:\\Users\\IAMMI\\AppData\\Local\\Temp\\ipykernel_6888\\3515320719.py:2: UserWarning: pandas only supports SQLAlchemy connectable (engine/connection) or database string URI or sqlite3 DBAPI2 connection. Other DBAPI2 objects are not tested. Please consider using SQLAlchemy.\n",
            "  emp_ind_df = pd.read_sql_query(emp_ind,connection)\n"
          ]
        },
        {
          "data": {
            "text/html": [
              "<div>\n",
              "<style scoped>\n",
              "    .dataframe tbody tr th:only-of-type {\n",
              "        vertical-align: middle;\n",
              "    }\n",
              "\n",
              "    .dataframe tbody tr th {\n",
              "        vertical-align: top;\n",
              "    }\n",
              "\n",
              "    .dataframe thead th {\n",
              "        text-align: right;\n",
              "    }\n",
              "</style>\n",
              "<table border=\"1\" class=\"dataframe\">\n",
              "  <thead>\n",
              "    <tr style=\"text-align: right;\">\n",
              "      <th></th>\n",
              "      <th>count_employers</th>\n",
              "    </tr>\n",
              "  </thead>\n",
              "  <tbody>\n",
              "    <tr>\n",
              "      <th>0</th>\n",
              "      <td>3553</td>\n",
              "    </tr>\n",
              "  </tbody>\n",
              "</table>\n",
              "</div>"
            ],
            "text/plain": [
              "   count_employers\n",
              "0             3553"
            ]
          },
          "execution_count": 98,
          "metadata": {},
          "output_type": "execute_result"
        }
      ],
      "source": [
        "# результат запроса\n",
        "emp_ind_df = pd.read_sql_query(emp_ind,connection)\n",
        "emp_ind_df"
      ]
    },
    {
      "cell_type": "markdown",
      "id": "7b02bb86-0546-40fb-94a4-242f050a5c57",
      "metadata": {
        "id": "7b02bb86-0546-40fb-94a4-242f050a5c57"
      },
      "source": [
        "7. Для компании «Яндекс» выведите список регионов-миллионников, в которых представлены вакансии компании, вместе с количеством вакансий в этих регионах. Также добавьте строку Total с общим количеством вакансий компании. Результат отсортируйте по возрастанию количества.\n",
        "\n",
        "Список городов-милионников надо взять [отсюда](https://ru.wikipedia.org/wiki/%D0%93%D0%BE%D1%80%D0%BE%D0%B4%D0%B0-%D0%BC%D0%B8%D0%BB%D0%BB%D0%B8%D0%BE%D0%BD%D0%B5%D1%80%D1%8B_%D0%A0%D0%BE%D1%81%D1%81%D0%B8%D0%B8). \n",
        "\n",
        "Если возникнут трудности с этим задание посмотрите материалы модуля  PYTHON-17. Как получать данные из веб-источников и API. "
      ]
    },
    {
      "cell_type": "code",
      "execution_count": 99,
      "id": "ZdfrL6gIs1Pn",
      "metadata": {
        "id": "ZdfrL6gIs1Pn"
      },
      "outputs": [
        {
          "data": {
            "text/plain": [
              "('Москва',\n",
              " 'Санкт-Петербург',\n",
              " 'Новосибирск',\n",
              " 'Екатеринбург',\n",
              " 'Казань',\n",
              " 'Нижний Новгород',\n",
              " 'Красноярск',\n",
              " 'Челябинск',\n",
              " 'Самара',\n",
              " 'Уфа',\n",
              " 'Ростов-на-Дону',\n",
              " 'Краснодар',\n",
              " 'Омск',\n",
              " 'Воронеж',\n",
              " 'Пермь',\n",
              " 'Волгоград')"
            ]
          },
          "metadata": {},
          "output_type": "display_data"
        }
      ],
      "source": [
        "# код для получения списка городов-милионников\n",
        "# разбирает URL-адрес на составляющие\n",
        "path_common = req.urlparse('https://ru.wikipedia.org/wiki/Города-миллионеры_России#Список_городов-миллионеров')\n",
        "# собирает URL-адрес обратно с использованием метода экранирования \n",
        "url = path_common.scheme + '://' + req.quote(path_common.netloc) +  req.quote(path_common.path) + '#'+ req.quote(path_common.fragment)\n",
        "# выделяем города\n",
        "cities = pd.read_html(url)[1]\n",
        "# преобразуем переменную с городами в кортеж\n",
        "mil_cities = tuple(cities['Город'])\n",
        "# выводим кортеж\n",
        "display(mil_cities)\n"
      ]
    },
    {
      "cell_type": "code",
      "execution_count": 100,
      "id": "5a0e32a4-e68a-4365-8a39-2fe24c542c36",
      "metadata": {
        "id": "5a0e32a4-e68a-4365-8a39-2fe24c542c36"
      },
      "outputs": [],
      "source": [
        "# текст запроса\n",
        "# формируем вспомогательный запрос\n",
        "ya_areas= f'''with city as (\n",
        "    select\n",
        "-- выводим регионы\n",
        "-- и количество вакансий     \n",
        "        ar.name AS area,\n",
        "        count(v.name) AS count_vacancies\n",
        "-- обращаемся к таблице работодателей    \n",
        "    from employers AS emp\n",
        "-- присоединяем таблицу вакансий\n",
        "-- где id вакансии работодателя равен id работодателя    \n",
        "    join vacancies AS v ON v.employer_id = emp.id\n",
        "-- присоединяем таблицу регионов\n",
        "-- где id региона равен id региона вакансии    \n",
        "    join areas AS ar ON ar.id = v.area_id\n",
        "-- фильтруем по наименованию работодателя    \n",
        "    where emp.name = 'Яндекс'\n",
        "-- группируем по названию региона    \n",
        "    group by ar.name\n",
        "-- фильтруем по названию региона\n",
        "-- где регионы это регионы из ранее созданного кортежа    \n",
        "    having ar.name in {mil_cities}\n",
        "-- сортируем по количеству вакансий в порядке убывания    \n",
        "    order by count(v.name) desc   \n",
        ")\n",
        "-- основной запрос\n",
        "    select\n",
        "-- выводим название региона\n",
        "-- и количество вакансий     \n",
        "        city.area,\n",
        "        city.count_vacancies\n",
        "-- обращаемся к вспомогательному запросу\n",
        "from city\n",
        "union all\n",
        "-- присоединяем строку total\n",
        "-- и сумму  количества вакансий в регионах\n",
        "select\n",
        "    'total',\n",
        "    sum(city.count_vacancies)\n",
        "from city'''"
      ]
    },
    {
      "cell_type": "code",
      "execution_count": 101,
      "id": "ttPhiO1rsvPq",
      "metadata": {
        "id": "ttPhiO1rsvPq"
      },
      "outputs": [
        {
          "name": "stderr",
          "output_type": "stream",
          "text": [
            "C:\\Users\\IAMMI\\AppData\\Local\\Temp\\ipykernel_6888\\804695278.py:2: UserWarning: pandas only supports SQLAlchemy connectable (engine/connection) or database string URI or sqlite3 DBAPI2 connection. Other DBAPI2 objects are not tested. Please consider using SQLAlchemy.\n",
            "  ya_areas_df = pd.read_sql_query(ya_areas, connection)\n"
          ]
        },
        {
          "data": {
            "text/html": [
              "<div>\n",
              "<style scoped>\n",
              "    .dataframe tbody tr th:only-of-type {\n",
              "        vertical-align: middle;\n",
              "    }\n",
              "\n",
              "    .dataframe tbody tr th {\n",
              "        vertical-align: top;\n",
              "    }\n",
              "\n",
              "    .dataframe thead th {\n",
              "        text-align: right;\n",
              "    }\n",
              "</style>\n",
              "<table border=\"1\" class=\"dataframe\">\n",
              "  <thead>\n",
              "    <tr style=\"text-align: right;\">\n",
              "      <th></th>\n",
              "      <th>area</th>\n",
              "      <th>count_vacancies</th>\n",
              "    </tr>\n",
              "  </thead>\n",
              "  <tbody>\n",
              "    <tr>\n",
              "      <th>0</th>\n",
              "      <td>Москва</td>\n",
              "      <td>54.0</td>\n",
              "    </tr>\n",
              "    <tr>\n",
              "      <th>1</th>\n",
              "      <td>Санкт-Петербург</td>\n",
              "      <td>42.0</td>\n",
              "    </tr>\n",
              "    <tr>\n",
              "      <th>2</th>\n",
              "      <td>Екатеринбург</td>\n",
              "      <td>39.0</td>\n",
              "    </tr>\n",
              "    <tr>\n",
              "      <th>3</th>\n",
              "      <td>Нижний Новгород</td>\n",
              "      <td>36.0</td>\n",
              "    </tr>\n",
              "    <tr>\n",
              "      <th>4</th>\n",
              "      <td>Новосибирск</td>\n",
              "      <td>35.0</td>\n",
              "    </tr>\n",
              "    <tr>\n",
              "      <th>5</th>\n",
              "      <td>Воронеж</td>\n",
              "      <td>32.0</td>\n",
              "    </tr>\n",
              "    <tr>\n",
              "      <th>6</th>\n",
              "      <td>Краснодар</td>\n",
              "      <td>30.0</td>\n",
              "    </tr>\n",
              "    <tr>\n",
              "      <th>7</th>\n",
              "      <td>Самара</td>\n",
              "      <td>26.0</td>\n",
              "    </tr>\n",
              "    <tr>\n",
              "      <th>8</th>\n",
              "      <td>Уфа</td>\n",
              "      <td>26.0</td>\n",
              "    </tr>\n",
              "    <tr>\n",
              "      <th>9</th>\n",
              "      <td>Казань</td>\n",
              "      <td>25.0</td>\n",
              "    </tr>\n",
              "    <tr>\n",
              "      <th>10</th>\n",
              "      <td>Пермь</td>\n",
              "      <td>25.0</td>\n",
              "    </tr>\n",
              "    <tr>\n",
              "      <th>11</th>\n",
              "      <td>Ростов-на-Дону</td>\n",
              "      <td>25.0</td>\n",
              "    </tr>\n",
              "    <tr>\n",
              "      <th>12</th>\n",
              "      <td>Волгоград</td>\n",
              "      <td>24.0</td>\n",
              "    </tr>\n",
              "    <tr>\n",
              "      <th>13</th>\n",
              "      <td>Красноярск</td>\n",
              "      <td>23.0</td>\n",
              "    </tr>\n",
              "    <tr>\n",
              "      <th>14</th>\n",
              "      <td>Челябинск</td>\n",
              "      <td>22.0</td>\n",
              "    </tr>\n",
              "    <tr>\n",
              "      <th>15</th>\n",
              "      <td>Омск</td>\n",
              "      <td>21.0</td>\n",
              "    </tr>\n",
              "    <tr>\n",
              "      <th>16</th>\n",
              "      <td>total</td>\n",
              "      <td>485.0</td>\n",
              "    </tr>\n",
              "  </tbody>\n",
              "</table>\n",
              "</div>"
            ],
            "text/plain": [
              "               area  count_vacancies\n",
              "0            Москва             54.0\n",
              "1   Санкт-Петербург             42.0\n",
              "2      Екатеринбург             39.0\n",
              "3   Нижний Новгород             36.0\n",
              "4       Новосибирск             35.0\n",
              "5           Воронеж             32.0\n",
              "6         Краснодар             30.0\n",
              "7            Самара             26.0\n",
              "8               Уфа             26.0\n",
              "9            Казань             25.0\n",
              "10            Пермь             25.0\n",
              "11   Ростов-на-Дону             25.0\n",
              "12        Волгоград             24.0\n",
              "13       Красноярск             23.0\n",
              "14        Челябинск             22.0\n",
              "15             Омск             21.0\n",
              "16            total            485.0"
            ]
          },
          "execution_count": 101,
          "metadata": {},
          "output_type": "execute_result"
        }
      ],
      "source": [
        "# результат запроса\n",
        "ya_areas_df = pd.read_sql_query(ya_areas, connection)\n",
        "ya_areas_df"
      ]
    },
    {
      "cell_type": "markdown",
      "id": "04966e40-3bc3-4dc8-9ba2-e80580ce3abc",
      "metadata": {
        "id": "04966e40-3bc3-4dc8-9ba2-e80580ce3abc"
      },
      "source": [
        "***"
      ]
    },
    {
      "cell_type": "markdown",
      "id": "05bc5bbb",
      "metadata": {},
      "source": [
        "# Выводы по анализу работодателей\n",
        "\n",
        "Анализу были подвергнуты данные отражающие информацию о работодателях, их сферах деятельности, а также регионах, в которых работодатели публикуют свои вакансии.\n",
        "\n",
        "В топ 5 работодателей входят:\n",
        "- Яндекс - 1 933 вакансии;\n",
        "- Ростелеком - 491 вакансия;\n",
        "- Тинькофф - 444 вакансии;\n",
        "- СБЕР - 428 вакансий;\n",
        "- Газпром нефть - 331 вакансия.\n",
        "\n",
        "Стоит отметить, что компании Яндекс и Ростелеком также входят в топ пять компаний по количеству регионов в которых они размещают свои вакансии. При этом Яндекс сохраняет лидерство - 181 регионов, а Ростелеком с третьей строчки топа по количеству вакансий поднялся на вторую строчку топа по количеству регионов размещения вакансий - 152 региона.\n",
        "\n",
        "Что касается сфер деятельности работодателей, стоит отметить, что 8 419 работодателей не указали сферу своей деятельности из чего можно сделать вывод, что такие работодатели менее интересны потенциальным соискателем, поскольку при поиске работы соискатели не только сопоставляют свои навыки и опыт работы с описанными в предлагаемой вакансии работодателя, но и подбирают себе работу исходя из собственных интересов к определенной (определенным) сфере деятельности и делают выбор в пользу работодателя разделяющего интересы соискателя.\n",
        "\n"
      ]
    },
    {
      "cell_type": "markdown",
      "id": "b1ef156a-efcb-49ce-bb23-90763e7f35b2",
      "metadata": {
        "id": "b1ef156a-efcb-49ce-bb23-90763e7f35b2",
        "tags": []
      },
      "source": [
        "# Юнит 6. Предметный анализ"
      ]
    },
    {
      "cell_type": "markdown",
      "id": "b9cd50a0-992d-4988-8463-2b2b1c4629b4",
      "metadata": {
        "id": "b9cd50a0-992d-4988-8463-2b2b1c4629b4"
      },
      "source": [
        "1. Сколько вакансий имеет отношение к данным?\n",
        "\n",
        "Считаем, что вакансия имеет отношение к данным, если в её названии содержатся слова 'data' или 'данн'.\n",
        "\n",
        "*Подсказка: Обратите внимание, что названия вакансий могут быть написаны в любом регистре.* \n"
      ]
    },
    {
      "cell_type": "code",
      "execution_count": 102,
      "id": "54ab0e50-c0f1-47cc-a54b-bc5c8bc363f9",
      "metadata": {
        "id": "54ab0e50-c0f1-47cc-a54b-bc5c8bc363f9"
      },
      "outputs": [],
      "source": [
        "# текст запроса\n",
        "data_vac = f'''select\n",
        "-- выводим количество вакансий\n",
        "    count(name) AS count_vacancies\n",
        "-- обращаемся к таблице вакансий\n",
        "from vacancies\n",
        "-- фильтруем по наличию в названии вакансий ключевых слов\n",
        "-- названия вакансий приведены в нижний регистр\n",
        "where lower(name) like '%data%' \n",
        "    or lower(name) like '%данн%' '''"
      ]
    },
    {
      "cell_type": "code",
      "execution_count": 103,
      "id": "9F1meAqsuUjd",
      "metadata": {
        "id": "9F1meAqsuUjd"
      },
      "outputs": [
        {
          "name": "stderr",
          "output_type": "stream",
          "text": [
            "C:\\Users\\IAMMI\\AppData\\Local\\Temp\\ipykernel_6888\\4138266289.py:2: UserWarning: pandas only supports SQLAlchemy connectable (engine/connection) or database string URI or sqlite3 DBAPI2 connection. Other DBAPI2 objects are not tested. Please consider using SQLAlchemy.\n",
            "  data_vac_df = pd.read_sql_query(data_vac, connection)\n"
          ]
        },
        {
          "data": {
            "text/html": [
              "<div>\n",
              "<style scoped>\n",
              "    .dataframe tbody tr th:only-of-type {\n",
              "        vertical-align: middle;\n",
              "    }\n",
              "\n",
              "    .dataframe tbody tr th {\n",
              "        vertical-align: top;\n",
              "    }\n",
              "\n",
              "    .dataframe thead th {\n",
              "        text-align: right;\n",
              "    }\n",
              "</style>\n",
              "<table border=\"1\" class=\"dataframe\">\n",
              "  <thead>\n",
              "    <tr style=\"text-align: right;\">\n",
              "      <th></th>\n",
              "      <th>count_vacancies</th>\n",
              "    </tr>\n",
              "  </thead>\n",
              "  <tbody>\n",
              "    <tr>\n",
              "      <th>0</th>\n",
              "      <td>1771</td>\n",
              "    </tr>\n",
              "  </tbody>\n",
              "</table>\n",
              "</div>"
            ],
            "text/plain": [
              "   count_vacancies\n",
              "0             1771"
            ]
          },
          "execution_count": 103,
          "metadata": {},
          "output_type": "execute_result"
        }
      ],
      "source": [
        "# результат запроса\n",
        "data_vac_df = pd.read_sql_query(data_vac, connection)\n",
        "data_vac_df"
      ]
    },
    {
      "cell_type": "markdown",
      "id": "4dea20cb-a36b-474a-a0b9-e08e8e3857a5",
      "metadata": {
        "id": "4dea20cb-a36b-474a-a0b9-e08e8e3857a5"
      },
      "source": [
        "2. Сколько есть подходящих вакансий для начинающего дата-сайентиста? \n",
        "Будем считать вакансиями для дата-сайентистов такие, в названии которых есть хотя бы одно из следующих сочетаний:\n",
        "* 'data scientist'\n",
        "* 'data science'\n",
        "* 'исследователь данных'\n",
        "* 'ML' (здесь не нужно брать вакансии по HTML)\n",
        "* 'machine learning'\n",
        "* 'машинн%обучен%'\n",
        "\n",
        "** В следующих заданиях мы продолжим работать с вакансиями по этому условию.*\n",
        "\n",
        "Считаем вакансиями для специалистов уровня Junior следующие:\n",
        "* в названии есть слово 'junior' *или*\n",
        "* требуемый опыт — Нет опыта *или*\n",
        "* тип трудоустройства — Стажировка.\n",
        " "
      ]
    },
    {
      "cell_type": "code",
      "execution_count": 106,
      "id": "9c61b3c0-bb66-46c9-ae1e-81d3f5752b4a",
      "metadata": {
        "id": "9c61b3c0-bb66-46c9-ae1e-81d3f5752b4a"
      },
      "outputs": [],
      "source": [
        "# текст запроса\n",
        "jds_vac = f'''select\n",
        "-- выводим количество вакансий\n",
        "    count(name) AS count_junior_ds_vac\n",
        "-- обращаемся к таблице вакансий\n",
        "from vacancies\n",
        "-- фильтруем по ключевым словам в вакансиях\n",
        "-- и по ключемым словам в опыте работы и типе занятости\n",
        "where (name ilike '%data scientist%' \n",
        "    or name ilike '%data science%'\n",
        "    or name ilike '%исследователь данных%'\n",
        "    or (name ilike '%ML%'\n",
        "    and name not ilike '%HTML%')\n",
        "    or name ilike '%machine learning%'\n",
        "    or name ilike '%машинн%обучен%')\n",
        "    and \n",
        "    (name ilike '%junior%'\n",
        "    or experience = 'Нет опыта'\n",
        "    or employment = 'Стажировка')'''"
      ]
    },
    {
      "cell_type": "code",
      "execution_count": 107,
      "id": "ZNM-LLYuu1dj",
      "metadata": {
        "id": "ZNM-LLYuu1dj"
      },
      "outputs": [
        {
          "name": "stderr",
          "output_type": "stream",
          "text": [
            "C:\\Users\\IAMMI\\AppData\\Local\\Temp\\ipykernel_6888\\383992579.py:2: UserWarning: pandas only supports SQLAlchemy connectable (engine/connection) or database string URI or sqlite3 DBAPI2 connection. Other DBAPI2 objects are not tested. Please consider using SQLAlchemy.\n",
            "  jds_vac_df = pd.read_sql_query(jds_vac, connection)\n"
          ]
        },
        {
          "data": {
            "text/html": [
              "<div>\n",
              "<style scoped>\n",
              "    .dataframe tbody tr th:only-of-type {\n",
              "        vertical-align: middle;\n",
              "    }\n",
              "\n",
              "    .dataframe tbody tr th {\n",
              "        vertical-align: top;\n",
              "    }\n",
              "\n",
              "    .dataframe thead th {\n",
              "        text-align: right;\n",
              "    }\n",
              "</style>\n",
              "<table border=\"1\" class=\"dataframe\">\n",
              "  <thead>\n",
              "    <tr style=\"text-align: right;\">\n",
              "      <th></th>\n",
              "      <th>count_junior_ds_vac</th>\n",
              "    </tr>\n",
              "  </thead>\n",
              "  <tbody>\n",
              "    <tr>\n",
              "      <th>0</th>\n",
              "      <td>51</td>\n",
              "    </tr>\n",
              "  </tbody>\n",
              "</table>\n",
              "</div>"
            ],
            "text/plain": [
              "   count_junior_ds_vac\n",
              "0                   51"
            ]
          },
          "execution_count": 107,
          "metadata": {},
          "output_type": "execute_result"
        }
      ],
      "source": [
        "# результат запроса\n",
        "jds_vac_df = pd.read_sql_query(jds_vac, connection)\n",
        "jds_vac_df"
      ]
    },
    {
      "cell_type": "markdown",
      "id": "eedceb80-c5ca-480e-b27a-278dfb8b4438",
      "metadata": {
        "id": "eedceb80-c5ca-480e-b27a-278dfb8b4438"
      },
      "source": [
        "3. Сколько есть вакансий для DS, в которых в качестве ключевого навыка указан SQL или postgres?\n",
        "\n",
        "** Критерии для отнесения вакансии к DS указаны в предыдущем задании.*"
      ]
    },
    {
      "cell_type": "code",
      "execution_count": 108,
      "id": "69621713-0cc5-4f1b-a1d7-bb144fa6148c",
      "metadata": {
        "id": "69621713-0cc5-4f1b-a1d7-bb144fa6148c"
      },
      "outputs": [],
      "source": [
        "# текст запроса\n",
        "sql_ds_vac = f'''select\n",
        "-- выводим количество вакансий\n",
        "    count(name) AS count_ds_vac_with_sql_skills\n",
        "-- обращаемся к таблице вакансий\n",
        "from vacancies\n",
        "-- фильтруем по ключевым словам в вакансиях\n",
        "-- и по ключевым словам в навыках\n",
        "where (name ilike '%data scientist%' \n",
        "    or name ilike '%data science%'\n",
        "    or name ilike '%исследователь данных%'\n",
        "    or (name ilike '%ML%'\n",
        "    and name not ilike '%HTML%')\n",
        "    or name ilike '%machine learning%'\n",
        "    or name ilike '%машинн%обучен%')\n",
        "    and (key_skills ilike '%SQL%'\n",
        "    or key_skills ilike '%postgres%')'''"
      ]
    },
    {
      "cell_type": "code",
      "execution_count": 109,
      "id": "alA8WEAAvGdf",
      "metadata": {
        "id": "alA8WEAAvGdf"
      },
      "outputs": [
        {
          "name": "stderr",
          "output_type": "stream",
          "text": [
            "C:\\Users\\IAMMI\\AppData\\Local\\Temp\\ipykernel_6888\\4166581444.py:2: UserWarning: pandas only supports SQLAlchemy connectable (engine/connection) or database string URI or sqlite3 DBAPI2 connection. Other DBAPI2 objects are not tested. Please consider using SQLAlchemy.\n",
            "  sql_ds_vac_df = pd.read_sql_query(sql_ds_vac, connection)\n"
          ]
        },
        {
          "data": {
            "text/html": [
              "<div>\n",
              "<style scoped>\n",
              "    .dataframe tbody tr th:only-of-type {\n",
              "        vertical-align: middle;\n",
              "    }\n",
              "\n",
              "    .dataframe tbody tr th {\n",
              "        vertical-align: top;\n",
              "    }\n",
              "\n",
              "    .dataframe thead th {\n",
              "        text-align: right;\n",
              "    }\n",
              "</style>\n",
              "<table border=\"1\" class=\"dataframe\">\n",
              "  <thead>\n",
              "    <tr style=\"text-align: right;\">\n",
              "      <th></th>\n",
              "      <th>count_ds_vac_with_sql_skills</th>\n",
              "    </tr>\n",
              "  </thead>\n",
              "  <tbody>\n",
              "    <tr>\n",
              "      <th>0</th>\n",
              "      <td>229</td>\n",
              "    </tr>\n",
              "  </tbody>\n",
              "</table>\n",
              "</div>"
            ],
            "text/plain": [
              "   count_ds_vac_with_sql_skills\n",
              "0                           229"
            ]
          },
          "execution_count": 109,
          "metadata": {},
          "output_type": "execute_result"
        }
      ],
      "source": [
        "# результат запроса\n",
        "sql_ds_vac_df = pd.read_sql_query(sql_ds_vac, connection)\n",
        "sql_ds_vac_df"
      ]
    },
    {
      "cell_type": "markdown",
      "id": "1be1e9c6-37cf-4a5f-bfeb-04cab799dc80",
      "metadata": {
        "id": "1be1e9c6-37cf-4a5f-bfeb-04cab799dc80"
      },
      "source": [
        "4. Проверьте, насколько популярен Python в требованиях работодателей к DS.Для этого вычислите количество вакансий, в которых в качестве ключевого навыка указан Python.\n",
        "\n",
        "** Это можно сделать помощью запроса, аналогичного предыдущему.*"
      ]
    },
    {
      "cell_type": "code",
      "execution_count": 110,
      "id": "0036a355-9ccf-4564-8b01-73d8194297e7",
      "metadata": {
        "id": "0036a355-9ccf-4564-8b01-73d8194297e7"
      },
      "outputs": [],
      "source": [
        "# текст запроса\n",
        "python_ds_vac = f'''select\n",
        "-- выводим количество вакансий\n",
        "    count(name) count_ds_vac_with_py_skills\n",
        "-- обращаемся к таблице вакансий\n",
        "from vacancies\n",
        "-- фильтруем по ключевым словам в вакансиях\n",
        "-- и по ключевым словам в навыках\n",
        "where (name ilike '%data scientist%' \n",
        "    or name ilike '%data science%'\n",
        "    or name ilike '%исследователь данных%'\n",
        "    or (name ilike '%ML%'\n",
        "    and name not ilike '%HTML%')\n",
        "    or name ilike '%machine learning%'\n",
        "    or name ilike '%машинн%обучен%')\n",
        "    and (key_skills ilike '%python%')'''"
      ]
    },
    {
      "cell_type": "code",
      "execution_count": 111,
      "id": "1i-5WyucvQ6v",
      "metadata": {
        "id": "1i-5WyucvQ6v"
      },
      "outputs": [
        {
          "name": "stderr",
          "output_type": "stream",
          "text": [
            "C:\\Users\\IAMMI\\AppData\\Local\\Temp\\ipykernel_6888\\1261125289.py:2: UserWarning: pandas only supports SQLAlchemy connectable (engine/connection) or database string URI or sqlite3 DBAPI2 connection. Other DBAPI2 objects are not tested. Please consider using SQLAlchemy.\n",
            "  python_ds_vac_df = pd.read_sql_query(python_ds_vac, connection)\n"
          ]
        },
        {
          "data": {
            "text/html": [
              "<div>\n",
              "<style scoped>\n",
              "    .dataframe tbody tr th:only-of-type {\n",
              "        vertical-align: middle;\n",
              "    }\n",
              "\n",
              "    .dataframe tbody tr th {\n",
              "        vertical-align: top;\n",
              "    }\n",
              "\n",
              "    .dataframe thead th {\n",
              "        text-align: right;\n",
              "    }\n",
              "</style>\n",
              "<table border=\"1\" class=\"dataframe\">\n",
              "  <thead>\n",
              "    <tr style=\"text-align: right;\">\n",
              "      <th></th>\n",
              "      <th>count_ds_vac_with_py_skills</th>\n",
              "    </tr>\n",
              "  </thead>\n",
              "  <tbody>\n",
              "    <tr>\n",
              "      <th>0</th>\n",
              "      <td>357</td>\n",
              "    </tr>\n",
              "  </tbody>\n",
              "</table>\n",
              "</div>"
            ],
            "text/plain": [
              "   count_ds_vac_with_py_skills\n",
              "0                          357"
            ]
          },
          "execution_count": 111,
          "metadata": {},
          "output_type": "execute_result"
        }
      ],
      "source": [
        "# результат запроса\n",
        "python_ds_vac_df = pd.read_sql_query(python_ds_vac, connection)\n",
        "python_ds_vac_df"
      ]
    },
    {
      "cell_type": "markdown",
      "id": "ec3c8db7-fa21-4a41-a994-1af63742a642",
      "metadata": {
        "id": "ec3c8db7-fa21-4a41-a994-1af63742a642"
      },
      "source": [
        "5. Сколько ключевых навыков в среднем указывают в вакансиях для DS?\n",
        "Ответ округлите до двух знаков после точки-разделителя."
      ]
    },
    {
      "cell_type": "code",
      "execution_count": 114,
      "id": "949132bc-d5b6-4611-8218-0b9a504d74f4",
      "metadata": {
        "id": "949132bc-d5b6-4611-8218-0b9a504d74f4"
      },
      "outputs": [],
      "source": [
        "# текст запроса\n",
        "avg_ds_key_skills = f'''select\n",
        "-- выводим среднее количество ключевых навыков\n",
        "    avg(length(key_skills)-length(replace(key_skills, CHR(9), ''))+1) AS average_of_key_skills\n",
        "-- обращаемся к таблице вакансий\n",
        "from vacancies \n",
        "-- фильтруем по ключевым словам в вакансиях\n",
        "where (name ilike '%data scientist%'\n",
        "    or name ilike '%data science%'\n",
        "    or name ilike '%исследователь данных%'\n",
        "    or (name like '%ML%' \n",
        "    and name not ilike '%HTML%') \n",
        "    or name ilike '%machine learning%' \n",
        "    or name ilike '%машинн%обучен%')'''"
      ]
    },
    {
      "cell_type": "code",
      "execution_count": 115,
      "id": "a3V24Tvmviqk",
      "metadata": {
        "id": "a3V24Tvmviqk"
      },
      "outputs": [
        {
          "name": "stderr",
          "output_type": "stream",
          "text": [
            "C:\\Users\\IAMMI\\AppData\\Local\\Temp\\ipykernel_6888\\4019775196.py:2: UserWarning: pandas only supports SQLAlchemy connectable (engine/connection) or database string URI or sqlite3 DBAPI2 connection. Other DBAPI2 objects are not tested. Please consider using SQLAlchemy.\n",
            "  avg_ds_key_skills_df = pd.read_sql_query(avg_ds_key_skills, connection)\n"
          ]
        },
        {
          "data": {
            "text/html": [
              "<div>\n",
              "<style scoped>\n",
              "    .dataframe tbody tr th:only-of-type {\n",
              "        vertical-align: middle;\n",
              "    }\n",
              "\n",
              "    .dataframe tbody tr th {\n",
              "        vertical-align: top;\n",
              "    }\n",
              "\n",
              "    .dataframe thead th {\n",
              "        text-align: right;\n",
              "    }\n",
              "</style>\n",
              "<table border=\"1\" class=\"dataframe\">\n",
              "  <thead>\n",
              "    <tr style=\"text-align: right;\">\n",
              "      <th></th>\n",
              "      <th>average_of_key_skills</th>\n",
              "    </tr>\n",
              "  </thead>\n",
              "  <tbody>\n",
              "    <tr>\n",
              "      <th>0</th>\n",
              "      <td>6.41</td>\n",
              "    </tr>\n",
              "  </tbody>\n",
              "</table>\n",
              "</div>"
            ],
            "text/plain": [
              "   average_of_key_skills\n",
              "0                   6.41"
            ]
          },
          "execution_count": 115,
          "metadata": {},
          "output_type": "execute_result"
        }
      ],
      "source": [
        "# результат запроса\n",
        "avg_ds_key_skills_df = pd.read_sql_query(avg_ds_key_skills, connection)\n",
        "round(avg_ds_key_skills_df, 2)"
      ]
    },
    {
      "cell_type": "markdown",
      "id": "1041c17a-ca8f-4543-a0ca-32778914fb00",
      "metadata": {
        "id": "1041c17a-ca8f-4543-a0ca-32778914fb00"
      },
      "source": [
        "6. Напишите запрос, позволяющий вычислить, какую зарплату для DS в **среднем** указывают для каждого типа требуемого опыта (уникальное значение из поля *experience*). \n",
        "\n",
        "При решении задачи примите во внимание следующее:\n",
        "1. Рассматриваем только вакансии, у которых заполнено хотя бы одно из двух полей с зарплатой.\n",
        "2. Если заполнены оба поля с зарплатой, то считаем зарплату по каждой вакансии как сумму двух полей, делённую на 2. Если заполнено только одно из полей, то его и считаем зарплатой по вакансии.\n",
        "3. Если в расчётах участвует null, в результате он тоже даст null (посмотрите, что возвращает запрос select 1 + null). Чтобы избежать этой ситуацию, мы воспользуемся функцией [coalesce](https://postgrespro.ru/docs/postgresql/9.5/functions-conditional#functions-coalesce-nvl-ifnull), которая заменит null на значение, которое мы передадим. Например, посмотрите, что возвращает запрос `select 1 + coalesce(null, 0)`\n",
        "\n",
        "Выясните, на какую зарплату в среднем может рассчитывать дата-сайентист с опытом работы от 3 до 6 лет. Результат округлите до целого числа. "
      ]
    },
    {
      "cell_type": "code",
      "execution_count": 116,
      "id": "6a743d39-5204-48d3-8271-b9f88e68d40e",
      "metadata": {
        "id": "6a743d39-5204-48d3-8271-b9f88e68d40e"
      },
      "outputs": [],
      "source": [
        "# текст запроса\n",
        "salary_ds = f'''select\n",
        "-- выводим опыт работы\n",
        "-- и среднюю заработную плату \n",
        "    experience,\n",
        "    avg(coalesce((salary_from + salary_to) / 2, salary_from, salary_to)) as average_salary \n",
        "-- обращаемся к таблице вакансий\n",
        "from vacancies\n",
        "-- фильтруем по ключевым словам в вакансиях,\n",
        "-- по опыту работы\n",
        "--  и по непустым столбцам с указанием зарплаты \n",
        "where (name ilike '%data scientist%'\n",
        "    or name ilike '%data science%'\n",
        "    or name ilike '%исследователь данных%'\n",
        "    or (name like '%ML%' \n",
        "    and name not ilike '%HTML%') \n",
        "    or name ilike '%machine learning%' \n",
        "    or name ilike '%машинн%обучен%')\n",
        "    and (experience = 'Более 6 лет'\n",
        "    or experience = 'От 3 до 6 лет'\n",
        "    or experience = 'От 1 года до 3 лет'\n",
        "    or experience = 'Нет опыта')\n",
        "    and (salary_from is not null or salary_to is not null)\n",
        "group by experience \n",
        "order by experience desc'''"
      ]
    },
    {
      "cell_type": "code",
      "execution_count": 117,
      "id": "aRIJ0mZEwU1_",
      "metadata": {
        "id": "aRIJ0mZEwU1_"
      },
      "outputs": [
        {
          "name": "stderr",
          "output_type": "stream",
          "text": [
            "C:\\Users\\IAMMI\\AppData\\Local\\Temp\\ipykernel_6888\\3803636989.py:2: UserWarning: pandas only supports SQLAlchemy connectable (engine/connection) or database string URI or sqlite3 DBAPI2 connection. Other DBAPI2 objects are not tested. Please consider using SQLAlchemy.\n",
            "  salary_ds_df = pd.read_sql_query(salary_ds, connection)\n"
          ]
        },
        {
          "data": {
            "text/html": [
              "<div>\n",
              "<style scoped>\n",
              "    .dataframe tbody tr th:only-of-type {\n",
              "        vertical-align: middle;\n",
              "    }\n",
              "\n",
              "    .dataframe tbody tr th {\n",
              "        vertical-align: top;\n",
              "    }\n",
              "\n",
              "    .dataframe thead th {\n",
              "        text-align: right;\n",
              "    }\n",
              "</style>\n",
              "<table border=\"1\" class=\"dataframe\">\n",
              "  <thead>\n",
              "    <tr style=\"text-align: right;\">\n",
              "      <th></th>\n",
              "      <th>experience</th>\n",
              "      <th>average_salary</th>\n",
              "    </tr>\n",
              "  </thead>\n",
              "  <tbody>\n",
              "    <tr>\n",
              "      <th>0</th>\n",
              "      <td>От 3 до 6 лет</td>\n",
              "      <td>243115.0</td>\n",
              "    </tr>\n",
              "    <tr>\n",
              "      <th>1</th>\n",
              "      <td>От 1 года до 3 лет</td>\n",
              "      <td>139675.0</td>\n",
              "    </tr>\n",
              "    <tr>\n",
              "      <th>2</th>\n",
              "      <td>Нет опыта</td>\n",
              "      <td>74643.0</td>\n",
              "    </tr>\n",
              "  </tbody>\n",
              "</table>\n",
              "</div>"
            ],
            "text/plain": [
              "           experience  average_salary\n",
              "0       От 3 до 6 лет        243115.0\n",
              "1  От 1 года до 3 лет        139675.0\n",
              "2           Нет опыта         74643.0"
            ]
          },
          "execution_count": 117,
          "metadata": {},
          "output_type": "execute_result"
        }
      ],
      "source": [
        "# результат запроса\n",
        "salary_ds_df = pd.read_sql_query(salary_ds, connection)\n",
        "round(salary_ds_df)"
      ]
    },
    {
      "cell_type": "markdown",
      "id": "6a7892b4-4113-4746-adce-18aa2844f18e",
      "metadata": {
        "id": "6a7892b4-4113-4746-adce-18aa2844f18e"
      },
      "source": [
        "***"
      ]
    },
    {
      "cell_type": "markdown",
      "id": "e332ab23",
      "metadata": {},
      "source": [
        "# Выводы по предметному анализу\n",
        "\n",
        "В финальном блоке проекта был проведен предметный анализ вакансий, в частности, поскольку интерес проекта сосредоточен на вакансиях в сфере IT, бы проведен анализ вакансий на позицию Data scientist (далее - DS).\n",
        "\n",
        "Так, согласно проведенному анализу общее количество вакансий имеющих отношения к данным - 1 771. Количество вакансий для DS уровня junior (начинающий специалист), согласно критериям выполняемого задания - 51. Среднее количество навыков необходимых DS - 6.41, при этом в качестве ключевых навыков в 357 вакансиях указаны знания и умения программировать на языке Python и в 220 вакансиях требуется знание написания sql - запросов.\n",
        "\n",
        "Также примечателен тот факт, что для специалистов DS высокого уровня с опытом работы более 6 лет не указанна заработная плата. Из этого можно сделать вывод, что для специалистов с таким опытом работы заработная плата обсуждается индивидуально. Для специалистов начального уровня средняя зарплата составляет 74 636 рублей, что является выше среднего уровня нижнего порога зарплатной вилки в целом на рынке труда."
      ]
    },
    {
      "cell_type": "markdown",
      "id": "c0ED6fh7wiBT",
      "metadata": {
        "id": "c0ED6fh7wiBT"
      },
      "source": [
        "# Общий вывод по проекту"
      ]
    },
    {
      "cell_type": "markdown",
      "id": "8d142371",
      "metadata": {},
      "source": [
        "# подведем итог исследования, обобщите выводы\n",
        "# здесь можно (это будет плюсом) провести дополнительные исследования данных, сделать прогнозы, продумать варианты продолжения исследования\n",
        "\n",
        "Подводя итоги исследования можно сделать несколько выводов:\n",
        "1. Рынок труда полон вакансий;\n",
        "2. Рынок труда имеет обширную географию;\n",
        "3. Основополагающее большинство вакансий сосредоточенно в крупных городах;\n",
        "4. Среднее значение нижнего порога зарплатной вилки выше среднего уровня зарплаты по России.\n",
        "\n",
        "Что качается IT индустрии, в частности DS, можно сделать вывод, что специалист настоящей профессии имеет довольно высокую оплату труда, а также довольно большое количество ключевых навыков, требующихся для качественного выполнения трудовых обязанностей."
      ]
    },
    {
      "cell_type": "markdown",
      "id": "9ea08412",
      "metadata": {},
      "source": [
        "# Дополнительные исследования данных"
      ]
    },
    {
      "cell_type": "markdown",
      "id": "bbb97b13",
      "metadata": {},
      "source": [
        "1. Сколько есть подходящих вакансий для среднего уровня специалиста в data science"
      ]
    },
    {
      "cell_type": "code",
      "execution_count": 118,
      "id": "7b12ce69",
      "metadata": {},
      "outputs": [],
      "source": [
        "mds_vac = f'''select\n",
        "-- выводим количество вакансий\n",
        "    count(name) AS count_middle_ds_vac\n",
        "-- обращаемся к таблице вакансий\n",
        "from vacancies\n",
        "-- фильтруем по ключевым словам в вакансиях\n",
        "-- и по ключемым словам в опыте работы и типе занятости\n",
        "where (name ilike '%data scientist%' \n",
        "    or name ilike '%data science%'\n",
        "    or name ilike '%исследователь данных%'\n",
        "    or (name ilike '%ML%'\n",
        "    and name not ilike '%HTML%')\n",
        "    or name ilike '%machine learning%'\n",
        "    or name ilike '%машинн%обучен%')\n",
        "    and \n",
        "    (name ilike '%middle%'\n",
        "    or experience = 'От 1 года до 3 лет'\n",
        "    or employment ilike '%Проектная работа%'\n",
        "    or employment ilike '%Полная занятость%')'''"
      ]
    },
    {
      "cell_type": "code",
      "execution_count": 119,
      "id": "4099adce",
      "metadata": {},
      "outputs": [
        {
          "name": "stderr",
          "output_type": "stream",
          "text": [
            "C:\\Users\\IAMMI\\AppData\\Local\\Temp\\ipykernel_6888\\1620533634.py:1: UserWarning: pandas only supports SQLAlchemy connectable (engine/connection) or database string URI or sqlite3 DBAPI2 connection. Other DBAPI2 objects are not tested. Please consider using SQLAlchemy.\n",
            "  mds_vac_df = pd.read_sql_query(mds_vac, connection)\n"
          ]
        },
        {
          "data": {
            "text/html": [
              "<div>\n",
              "<style scoped>\n",
              "    .dataframe tbody tr th:only-of-type {\n",
              "        vertical-align: middle;\n",
              "    }\n",
              "\n",
              "    .dataframe tbody tr th {\n",
              "        vertical-align: top;\n",
              "    }\n",
              "\n",
              "    .dataframe thead th {\n",
              "        text-align: right;\n",
              "    }\n",
              "</style>\n",
              "<table border=\"1\" class=\"dataframe\">\n",
              "  <thead>\n",
              "    <tr style=\"text-align: right;\">\n",
              "      <th></th>\n",
              "      <th>count_middle_ds_vac</th>\n",
              "    </tr>\n",
              "  </thead>\n",
              "  <tbody>\n",
              "    <tr>\n",
              "      <th>0</th>\n",
              "      <td>525</td>\n",
              "    </tr>\n",
              "  </tbody>\n",
              "</table>\n",
              "</div>"
            ],
            "text/plain": [
              "   count_middle_ds_vac\n",
              "0                  525"
            ]
          },
          "execution_count": 119,
          "metadata": {},
          "output_type": "execute_result"
        }
      ],
      "source": [
        "mds_vac_df = pd.read_sql_query(mds_vac, connection)\n",
        "mds_vac_df"
      ]
    },
    {
      "cell_type": "markdown",
      "id": "47e29405",
      "metadata": {},
      "source": [
        "2. Сколько есть подходящих вакансий для специалиста высокого уровня в data science"
      ]
    },
    {
      "cell_type": "code",
      "execution_count": 120,
      "id": "f041b308",
      "metadata": {},
      "outputs": [],
      "source": [
        "s_or_tl_ds_vac = f'''select\n",
        "-- выводим количество вакансий\n",
        "    count(name) AS count_senior_or_team_lead_ds_vac\n",
        "-- обращаемся к таблице вакансий\n",
        "from vacancies\n",
        "-- фильтруем по ключевым словам в вакансиях\n",
        "-- и по ключемым словам в опыте работы и типе занятости\n",
        "where (name ilike '%data scientist%' \n",
        "    or name ilike '%data science%'\n",
        "    or name ilike '%исследователь данных%'\n",
        "    or (name ilike '%ML%'\n",
        "    and name not ilike '%HTML%')\n",
        "    or name ilike '%machine learning%'\n",
        "    or name ilike '%машинн%обучен%')\n",
        "    and \n",
        "    (name ilike '%senior%'\n",
        "    or name ilike '%team lead%'\n",
        "    or experience = 'От 3 до 6 лет'\n",
        "    or experience = 'Более 6 лет'\n",
        "    or employment ilike '%Проектная работа%'\n",
        "    or employment ilike '%Полная занятость%')'''"
      ]
    },
    {
      "cell_type": "code",
      "execution_count": 121,
      "id": "a0bd5b45",
      "metadata": {},
      "outputs": [
        {
          "name": "stderr",
          "output_type": "stream",
          "text": [
            "C:\\Users\\IAMMI\\AppData\\Local\\Temp\\ipykernel_6888\\1143526534.py:1: UserWarning: pandas only supports SQLAlchemy connectable (engine/connection) or database string URI or sqlite3 DBAPI2 connection. Other DBAPI2 objects are not tested. Please consider using SQLAlchemy.\n",
            "  s_or_tl_ds_vac_df = pd.read_sql_query(s_or_tl_ds_vac, connection)\n"
          ]
        },
        {
          "data": {
            "text/html": [
              "<div>\n",
              "<style scoped>\n",
              "    .dataframe tbody tr th:only-of-type {\n",
              "        vertical-align: middle;\n",
              "    }\n",
              "\n",
              "    .dataframe tbody tr th {\n",
              "        vertical-align: top;\n",
              "    }\n",
              "\n",
              "    .dataframe thead th {\n",
              "        text-align: right;\n",
              "    }\n",
              "</style>\n",
              "<table border=\"1\" class=\"dataframe\">\n",
              "  <thead>\n",
              "    <tr style=\"text-align: right;\">\n",
              "      <th></th>\n",
              "      <th>count_senior_or_team_lead_ds_vac</th>\n",
              "    </tr>\n",
              "  </thead>\n",
              "  <tbody>\n",
              "    <tr>\n",
              "      <th>0</th>\n",
              "      <td>527</td>\n",
              "    </tr>\n",
              "  </tbody>\n",
              "</table>\n",
              "</div>"
            ],
            "text/plain": [
              "   count_senior_or_team_lead_ds_vac\n",
              "0                               527"
            ]
          },
          "execution_count": 121,
          "metadata": {},
          "output_type": "execute_result"
        }
      ],
      "source": [
        "s_or_tl_ds_vac_df = pd.read_sql_query(s_or_tl_ds_vac, connection)\n",
        "s_or_tl_ds_vac_df"
      ]
    },
    {
      "cell_type": "markdown",
      "id": "0d92e249",
      "metadata": {},
      "source": [
        "***"
      ]
    },
    {
      "cell_type": "markdown",
      "id": "0534f20f",
      "metadata": {},
      "source": [
        "В качестве продолжения исследования было проанализированно колличество ванкансий представленных на рынке труда для специалистов DS среднего и высокого уровней. Так, согласно анализу, можно сделать вывод, что рынок труда больше заинтересован в специалистах настоящей профессии имеющих средний и высокий уровень квалификации, нежеле чем в специалистах начального уровня.  "
      ]
    }
  ],
  "metadata": {
    "colab": {
      "collapsed_sections": [
        "8d62a9f3-f64e-4fe7-bdac-c4dffa16155e"
      ],
      "provenance": []
    },
    "kernelspec": {
      "display_name": "Python 3 (ipykernel)",
      "language": "python",
      "name": "python3"
    },
    "language_info": {
      "codemirror_mode": {
        "name": "ipython",
        "version": 3
      },
      "file_extension": ".py",
      "mimetype": "text/x-python",
      "name": "python",
      "nbconvert_exporter": "python",
      "pygments_lexer": "ipython3",
      "version": "3.9.10"
    }
  },
  "nbformat": 4,
  "nbformat_minor": 5
}
